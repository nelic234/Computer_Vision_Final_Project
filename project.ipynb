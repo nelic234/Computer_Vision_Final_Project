{
  "cells": [
    {
      "cell_type": "markdown",
      "id": "eec08ffb",
      "metadata": {
        "id": "eec08ffb"
      },
      "source": [
        "# Final Project Computer Vision\n",
        "## Truth in Motion: Depth and Flow Enhanced DeepFake Detection\n",
        "\n",
        "Authors: Aimee Lin, Neli Catar and Gellert Toth"
      ]
    },
    {
      "cell_type": "markdown",
      "id": "b316f18a",
      "metadata": {
        "id": "b316f18a"
      },
      "source": [
        "### Imports"
      ]
    },
    {
      "cell_type": "code",
      "execution_count": 1,
      "id": "66a0a224",
      "metadata": {
        "colab": {
          "base_uri": "https://localhost:8080/"
        },
        "id": "66a0a224",
        "outputId": "ac01e622-2085-41b7-a19c-869a58feef24"
      },
      "outputs": [
        {
          "output_type": "stream",
          "name": "stdout",
          "text": [
            "Cloning into 'Depth-Anything-V2'...\n",
            "remote: Enumerating objects: 142, done.\u001b[K\n",
            "remote: Total 142 (delta 0), reused 0 (delta 0), pack-reused 142 (from 1)\u001b[K\n",
            "Receiving objects: 100% (142/142), 45.17 MiB | 10.15 MiB/s, done.\n",
            "Resolving deltas: 100% (46/46), done.\n"
          ]
        }
      ],
      "source": [
        "!git clone https://github.com/DepthAnything/Depth-Anything-V2.git"
      ]
    },
    {
      "cell_type": "code",
      "execution_count": 2,
      "id": "20779f52",
      "metadata": {
        "colab": {
          "base_uri": "https://localhost:8080/"
        },
        "id": "20779f52",
        "outputId": "7d88b3a6-195a-4093-b690-fe851f72cdef"
      },
      "outputs": [
        {
          "output_type": "stream",
          "name": "stdout",
          "text": [
            "  % Total    % Received % Xferd  Average Speed   Time    Time     Time  Current\n",
            "                                 Dload  Upload   Total   Spent    Left  Speed\n",
            "100  1138  100  1138    0     0   3793      0 --:--:-- --:--:-- --:--:--  3806\n",
            "100  371M  100  371M    0     0   314M      0  0:00:01  0:00:01 --:--:--  547M\n"
          ]
        }
      ],
      "source": [
        "!mkdir -p DepthAnythingV2Checkpoints\n",
        "!curl -L https://huggingface.co/depth-anything/Depth-Anything-V2-Base/resolve/main/depth_anything_v2_vitb.pth?download=true --output DepthAnythingV2Checkpoints/depth_anything_v2_vitb.pth\n"
      ]
    },
    {
      "cell_type": "code",
      "execution_count": 3,
      "id": "c4c0e141",
      "metadata": {
        "colab": {
          "base_uri": "https://localhost:8080/"
        },
        "id": "c4c0e141",
        "outputId": "fba8c236-64a6-4d05-cfa5-268ea8d5a153"
      },
      "outputs": [
        {
          "output_type": "stream",
          "name": "stdout",
          "text": [
            "Cloning into 'pytorch-pwc'...\n",
            "remote: Enumerating objects: 251, done.\u001b[K\n",
            "remote: Counting objects: 100% (82/82), done.\u001b[K\n",
            "remote: Compressing objects: 100% (58/58), done.\u001b[K\n",
            "remote: Total 251 (delta 40), reused 62 (delta 24), pack-reused 169 (from 1)\u001b[K\n",
            "Receiving objects: 100% (251/251), 66.96 MiB | 11.53 MiB/s, done.\n",
            "Resolving deltas: 100% (120/120), done.\n"
          ]
        }
      ],
      "source": [
        "!git clone https://github.com/sniklaus/pytorch-pwc.git\n",
        "!mv pytorch-pwc pytorch_pwc"
      ]
    },
    {
      "cell_type": "code",
      "execution_count": 5,
      "id": "nxaxGrshrOQK",
      "metadata": {
        "colab": {
          "base_uri": "https://localhost:8080/",
          "height": 1000
        },
        "id": "nxaxGrshrOQK",
        "outputId": "0f415b21-1b21-48e3-d090-9e56a00120bb"
      },
      "outputs": [
        {
          "output_type": "stream",
          "name": "stdout",
          "text": [
            "Looking in indexes: https://pypi.org/simple, https://download.pytorch.org/whl/cu121\n",
            "Requirement already satisfied: opencv-python==4.11.0.86 in /usr/local/lib/python3.11/dist-packages (from -r requirements.txt (line 1)) (4.11.0.86)\n",
            "Collecting cupy-cuda12x==13.4.1 (from -r requirements.txt (line 2))\n",
            "  Downloading cupy_cuda12x-13.4.1-cp311-cp311-manylinux2014_x86_64.whl.metadata (2.6 kB)\n",
            "Collecting facenet_pytorch==2.5.2 (from -r requirements.txt (line 3))\n",
            "  Downloading facenet_pytorch-2.5.2-py3-none-any.whl.metadata (12 kB)\n",
            "Collecting matplotlib==3.10.3 (from -r requirements.txt (line 4))\n",
            "  Downloading matplotlib-3.10.3-cp311-cp311-manylinux_2_17_x86_64.manylinux2014_x86_64.whl.metadata (11 kB)\n",
            "Collecting torch==2.3.0+cu121 (from -r requirements.txt (line 5))\n",
            "  Downloading https://download.pytorch.org/whl/cu121/torch-2.3.0%2Bcu121-cp311-cp311-linux_x86_64.whl (781.0 MB)\n",
            "\u001b[2K     \u001b[90m━━━━━━━━━━━━━━━━━━━━━━━━━━━━━━━━━━━━━━━\u001b[0m \u001b[32m781.0/781.0 MB\u001b[0m \u001b[31m2.3 MB/s\u001b[0m eta \u001b[36m0:00:00\u001b[0m\n",
            "\u001b[?25hCollecting torchvision==0.18.0+cu121 (from -r requirements.txt (line 6))\n",
            "  Downloading https://download.pytorch.org/whl/cu121/torchvision-0.18.0%2Bcu121-cp311-cp311-linux_x86_64.whl (7.0 MB)\n",
            "\u001b[2K     \u001b[90m━━━━━━━━━━━━━━━━━━━━━━━━━━━━━━━━━━━━━━━━\u001b[0m \u001b[32m7.0/7.0 MB\u001b[0m \u001b[31m103.8 MB/s\u001b[0m eta \u001b[36m0:00:00\u001b[0m\n",
            "\u001b[?25hCollecting scikit-learn==1.7.0 (from -r requirements.txt (line 7))\n",
            "  Downloading scikit_learn-1.7.0-cp311-cp311-manylinux_2_17_x86_64.manylinux2014_x86_64.whl.metadata (17 kB)\n",
            "Collecting transformers==4.51.3 (from -r requirements.txt (line 8))\n",
            "  Downloading transformers-4.51.3-py3-none-any.whl.metadata (38 kB)\n",
            "Requirement already satisfied: numpy>=1.21.2 in /usr/local/lib/python3.11/dist-packages (from opencv-python==4.11.0.86->-r requirements.txt (line 1)) (2.0.2)\n",
            "Requirement already satisfied: fastrlock>=0.5 in /usr/local/lib/python3.11/dist-packages (from cupy-cuda12x==13.4.1->-r requirements.txt (line 2)) (0.8.3)\n",
            "Requirement already satisfied: requests in /usr/local/lib/python3.11/dist-packages (from facenet_pytorch==2.5.2->-r requirements.txt (line 3)) (2.32.3)\n",
            "Requirement already satisfied: pillow in /usr/local/lib/python3.11/dist-packages (from facenet_pytorch==2.5.2->-r requirements.txt (line 3)) (11.2.1)\n",
            "Requirement already satisfied: contourpy>=1.0.1 in /usr/local/lib/python3.11/dist-packages (from matplotlib==3.10.3->-r requirements.txt (line 4)) (1.3.2)\n",
            "Requirement already satisfied: cycler>=0.10 in /usr/local/lib/python3.11/dist-packages (from matplotlib==3.10.3->-r requirements.txt (line 4)) (0.12.1)\n",
            "Requirement already satisfied: fonttools>=4.22.0 in /usr/local/lib/python3.11/dist-packages (from matplotlib==3.10.3->-r requirements.txt (line 4)) (4.58.1)\n",
            "Requirement already satisfied: kiwisolver>=1.3.1 in /usr/local/lib/python3.11/dist-packages (from matplotlib==3.10.3->-r requirements.txt (line 4)) (1.4.8)\n",
            "Requirement already satisfied: packaging>=20.0 in /usr/local/lib/python3.11/dist-packages (from matplotlib==3.10.3->-r requirements.txt (line 4)) (24.2)\n",
            "Requirement already satisfied: pyparsing>=2.3.1 in /usr/local/lib/python3.11/dist-packages (from matplotlib==3.10.3->-r requirements.txt (line 4)) (3.2.3)\n",
            "Requirement already satisfied: python-dateutil>=2.7 in /usr/local/lib/python3.11/dist-packages (from matplotlib==3.10.3->-r requirements.txt (line 4)) (2.9.0.post0)\n",
            "Requirement already satisfied: filelock in /usr/local/lib/python3.11/dist-packages (from torch==2.3.0+cu121->-r requirements.txt (line 5)) (3.18.0)\n",
            "Requirement already satisfied: typing-extensions>=4.8.0 in /usr/local/lib/python3.11/dist-packages (from torch==2.3.0+cu121->-r requirements.txt (line 5)) (4.14.0)\n",
            "Requirement already satisfied: sympy in /usr/local/lib/python3.11/dist-packages (from torch==2.3.0+cu121->-r requirements.txt (line 5)) (1.13.1)\n",
            "Requirement already satisfied: networkx in /usr/local/lib/python3.11/dist-packages (from torch==2.3.0+cu121->-r requirements.txt (line 5)) (3.5)\n",
            "Requirement already satisfied: jinja2 in /usr/local/lib/python3.11/dist-packages (from torch==2.3.0+cu121->-r requirements.txt (line 5)) (3.1.6)\n",
            "Requirement already satisfied: fsspec in /usr/local/lib/python3.11/dist-packages (from torch==2.3.0+cu121->-r requirements.txt (line 5)) (2025.3.2)\n",
            "Collecting nvidia-cuda-nvrtc-cu12==12.1.105 (from torch==2.3.0+cu121->-r requirements.txt (line 5))\n",
            "  Downloading https://download.pytorch.org/whl/cu121/nvidia_cuda_nvrtc_cu12-12.1.105-py3-none-manylinux1_x86_64.whl (23.7 MB)\n",
            "\u001b[2K     \u001b[90m━━━━━━━━━━━━━━━━━━━━━━━━━━━━━━━━━━━━━━━\u001b[0m \u001b[32m23.7/23.7 MB\u001b[0m \u001b[31m106.2 MB/s\u001b[0m eta \u001b[36m0:00:00\u001b[0m\n",
            "\u001b[?25hCollecting nvidia-cuda-runtime-cu12==12.1.105 (from torch==2.3.0+cu121->-r requirements.txt (line 5))\n",
            "  Downloading https://download.pytorch.org/whl/cu121/nvidia_cuda_runtime_cu12-12.1.105-py3-none-manylinux1_x86_64.whl (823 kB)\n",
            "\u001b[2K     \u001b[90m━━━━━━━━━━━━━━━━━━━━━━━━━━━━━━━━━━━━━━\u001b[0m \u001b[32m823.6/823.6 kB\u001b[0m \u001b[31m62.1 MB/s\u001b[0m eta \u001b[36m0:00:00\u001b[0m\n",
            "\u001b[?25hCollecting nvidia-cuda-cupti-cu12==12.1.105 (from torch==2.3.0+cu121->-r requirements.txt (line 5))\n",
            "  Downloading https://download.pytorch.org/whl/cu121/nvidia_cuda_cupti_cu12-12.1.105-py3-none-manylinux1_x86_64.whl (14.1 MB)\n",
            "\u001b[2K     \u001b[90m━━━━━━━━━━━━━━━━━━━━━━━━━━━━━━━━━━━━━━━\u001b[0m \u001b[32m14.1/14.1 MB\u001b[0m \u001b[31m130.8 MB/s\u001b[0m eta \u001b[36m0:00:00\u001b[0m\n",
            "\u001b[?25hCollecting nvidia-cudnn-cu12==8.9.2.26 (from torch==2.3.0+cu121->-r requirements.txt (line 5))\n",
            "  Downloading https://download.pytorch.org/whl/cu121/nvidia_cudnn_cu12-8.9.2.26-py3-none-manylinux1_x86_64.whl (731.7 MB)\n",
            "\u001b[2K     \u001b[90m━━━━━━━━━━━━━━━━━━━━━━━━━━━━━━━━━━━━━━━\u001b[0m \u001b[32m731.7/731.7 MB\u001b[0m \u001b[31m2.1 MB/s\u001b[0m eta \u001b[36m0:00:00\u001b[0m\n",
            "\u001b[?25hCollecting nvidia-cublas-cu12==12.1.3.1 (from torch==2.3.0+cu121->-r requirements.txt (line 5))\n",
            "  Downloading https://download.pytorch.org/whl/cu121/nvidia_cublas_cu12-12.1.3.1-py3-none-manylinux1_x86_64.whl (410.6 MB)\n",
            "\u001b[2K     \u001b[90m━━━━━━━━━━━━━━━━━━━━━━━━━━━━━━━━━━━━━━━\u001b[0m \u001b[32m410.6/410.6 MB\u001b[0m \u001b[31m2.8 MB/s\u001b[0m eta \u001b[36m0:00:00\u001b[0m\n",
            "\u001b[?25hCollecting nvidia-cufft-cu12==11.0.2.54 (from torch==2.3.0+cu121->-r requirements.txt (line 5))\n",
            "  Downloading https://download.pytorch.org/whl/cu121/nvidia_cufft_cu12-11.0.2.54-py3-none-manylinux1_x86_64.whl (121.6 MB)\n",
            "\u001b[2K     \u001b[90m━━━━━━━━━━━━━━━━━━━━━━━━━━━━━━━━━━━━━━\u001b[0m \u001b[32m121.6/121.6 MB\u001b[0m \u001b[31m20.9 MB/s\u001b[0m eta \u001b[36m0:00:00\u001b[0m\n",
            "\u001b[?25hCollecting nvidia-curand-cu12==10.3.2.106 (from torch==2.3.0+cu121->-r requirements.txt (line 5))\n",
            "  Downloading https://download.pytorch.org/whl/cu121/nvidia_curand_cu12-10.3.2.106-py3-none-manylinux1_x86_64.whl (56.5 MB)\n",
            "\u001b[2K     \u001b[90m━━━━━━━━━━━━━━━━━━━━━━━━━━━━━━━━━━━━━━━━\u001b[0m \u001b[32m56.5/56.5 MB\u001b[0m \u001b[31m43.6 MB/s\u001b[0m eta \u001b[36m0:00:00\u001b[0m\n",
            "\u001b[?25hCollecting nvidia-cusolver-cu12==11.4.5.107 (from torch==2.3.0+cu121->-r requirements.txt (line 5))\n",
            "  Downloading https://download.pytorch.org/whl/cu121/nvidia_cusolver_cu12-11.4.5.107-py3-none-manylinux1_x86_64.whl (124.2 MB)\n",
            "\u001b[2K     \u001b[90m━━━━━━━━━━━━━━━━━━━━━━━━━━━━━━━━━━━━━━━\u001b[0m \u001b[32m124.2/124.2 MB\u001b[0m \u001b[31m6.1 MB/s\u001b[0m eta \u001b[36m0:00:00\u001b[0m\n",
            "\u001b[?25hCollecting nvidia-cusparse-cu12==12.1.0.106 (from torch==2.3.0+cu121->-r requirements.txt (line 5))\n",
            "  Downloading https://download.pytorch.org/whl/cu121/nvidia_cusparse_cu12-12.1.0.106-py3-none-manylinux1_x86_64.whl (196.0 MB)\n",
            "\u001b[2K     \u001b[90m━━━━━━━━━━━━━━━━━━━━━━━━━━━━━━━━━━━━━━━\u001b[0m \u001b[32m196.0/196.0 MB\u001b[0m \u001b[31m5.9 MB/s\u001b[0m eta \u001b[36m0:00:00\u001b[0m\n",
            "\u001b[?25hCollecting nvidia-nccl-cu12==2.20.5 (from torch==2.3.0+cu121->-r requirements.txt (line 5))\n",
            "  Downloading https://download.pytorch.org/whl/cu121/nvidia_nccl_cu12-2.20.5-py3-none-manylinux2014_x86_64.whl (176.2 MB)\n",
            "\u001b[2K     \u001b[90m━━━━━━━━━━━━━━━━━━━━━━━━━━━━━━━━━━━━━━━\u001b[0m \u001b[32m176.2/176.2 MB\u001b[0m \u001b[31m6.1 MB/s\u001b[0m eta \u001b[36m0:00:00\u001b[0m\n",
            "\u001b[?25hCollecting nvidia-nvtx-cu12==12.1.105 (from torch==2.3.0+cu121->-r requirements.txt (line 5))\n",
            "  Downloading https://download.pytorch.org/whl/cu121/nvidia_nvtx_cu12-12.1.105-py3-none-manylinux1_x86_64.whl (99 kB)\n",
            "\u001b[2K     \u001b[90m━━━━━━━━━━━━━━━━━━━━━━━━━━━━━━━━━━━━━━━━\u001b[0m \u001b[32m99.1/99.1 kB\u001b[0m \u001b[31m12.7 MB/s\u001b[0m eta \u001b[36m0:00:00\u001b[0m\n",
            "\u001b[?25hCollecting triton==2.3.0 (from torch==2.3.0+cu121->-r requirements.txt (line 5))\n",
            "  Downloading https://download.pytorch.org/whl/triton-2.3.0-cp311-cp311-manylinux_2_17_x86_64.manylinux2014_x86_64.whl (168.1 MB)\n",
            "\u001b[2K     \u001b[90m━━━━━━━━━━━━━━━━━━━━━━━━━━━━━━━━━━━━━━━\u001b[0m \u001b[32m168.1/168.1 MB\u001b[0m \u001b[31m8.5 MB/s\u001b[0m eta \u001b[36m0:00:00\u001b[0m\n",
            "\u001b[?25hRequirement already satisfied: scipy>=1.8.0 in /usr/local/lib/python3.11/dist-packages (from scikit-learn==1.7.0->-r requirements.txt (line 7)) (1.15.3)\n",
            "Requirement already satisfied: joblib>=1.2.0 in /usr/local/lib/python3.11/dist-packages (from scikit-learn==1.7.0->-r requirements.txt (line 7)) (1.5.1)\n",
            "Requirement already satisfied: threadpoolctl>=3.1.0 in /usr/local/lib/python3.11/dist-packages (from scikit-learn==1.7.0->-r requirements.txt (line 7)) (3.6.0)\n",
            "Requirement already satisfied: huggingface-hub<1.0,>=0.30.0 in /usr/local/lib/python3.11/dist-packages (from transformers==4.51.3->-r requirements.txt (line 8)) (0.32.4)\n",
            "Requirement already satisfied: pyyaml>=5.1 in /usr/local/lib/python3.11/dist-packages (from transformers==4.51.3->-r requirements.txt (line 8)) (6.0.2)\n",
            "Requirement already satisfied: regex!=2019.12.17 in /usr/local/lib/python3.11/dist-packages (from transformers==4.51.3->-r requirements.txt (line 8)) (2024.11.6)\n",
            "Requirement already satisfied: tokenizers<0.22,>=0.21 in /usr/local/lib/python3.11/dist-packages (from transformers==4.51.3->-r requirements.txt (line 8)) (0.21.1)\n",
            "Requirement already satisfied: safetensors>=0.4.3 in /usr/local/lib/python3.11/dist-packages (from transformers==4.51.3->-r requirements.txt (line 8)) (0.5.3)\n",
            "Requirement already satisfied: tqdm>=4.27 in /usr/local/lib/python3.11/dist-packages (from transformers==4.51.3->-r requirements.txt (line 8)) (4.67.1)\n",
            "Requirement already satisfied: nvidia-nvjitlink-cu12 in /usr/local/lib/python3.11/dist-packages (from nvidia-cusolver-cu12==11.4.5.107->torch==2.3.0+cu121->-r requirements.txt (line 5)) (12.5.82)\n",
            "Requirement already satisfied: hf-xet<2.0.0,>=1.1.2 in /usr/local/lib/python3.11/dist-packages (from huggingface-hub<1.0,>=0.30.0->transformers==4.51.3->-r requirements.txt (line 8)) (1.1.2)\n",
            "Requirement already satisfied: six>=1.5 in /usr/local/lib/python3.11/dist-packages (from python-dateutil>=2.7->matplotlib==3.10.3->-r requirements.txt (line 4)) (1.17.0)\n",
            "Requirement already satisfied: MarkupSafe>=2.0 in /usr/local/lib/python3.11/dist-packages (from jinja2->torch==2.3.0+cu121->-r requirements.txt (line 5)) (3.0.2)\n",
            "Requirement already satisfied: charset-normalizer<4,>=2 in /usr/local/lib/python3.11/dist-packages (from requests->facenet_pytorch==2.5.2->-r requirements.txt (line 3)) (3.4.2)\n",
            "Requirement already satisfied: idna<4,>=2.5 in /usr/local/lib/python3.11/dist-packages (from requests->facenet_pytorch==2.5.2->-r requirements.txt (line 3)) (3.10)\n",
            "Requirement already satisfied: urllib3<3,>=1.21.1 in /usr/local/lib/python3.11/dist-packages (from requests->facenet_pytorch==2.5.2->-r requirements.txt (line 3)) (2.4.0)\n",
            "Requirement already satisfied: certifi>=2017.4.17 in /usr/local/lib/python3.11/dist-packages (from requests->facenet_pytorch==2.5.2->-r requirements.txt (line 3)) (2025.4.26)\n",
            "Requirement already satisfied: mpmath<1.4,>=1.1.0 in /usr/local/lib/python3.11/dist-packages (from sympy->torch==2.3.0+cu121->-r requirements.txt (line 5)) (1.3.0)\n",
            "Downloading cupy_cuda12x-13.4.1-cp311-cp311-manylinux2014_x86_64.whl (105.4 MB)\n",
            "\u001b[2K   \u001b[90m━━━━━━━━━━━━━━━━━━━━━━━━━━━━━━━━━━━━━━━━\u001b[0m \u001b[32m105.4/105.4 MB\u001b[0m \u001b[31m23.8 MB/s\u001b[0m eta \u001b[36m0:00:00\u001b[0m\n",
            "\u001b[?25hDownloading facenet_pytorch-2.5.2-py3-none-any.whl (1.9 MB)\n",
            "\u001b[2K   \u001b[90m━━━━━━━━━━━━━━━━━━━━━━━━━━━━━━━━━━━━━━━━\u001b[0m \u001b[32m1.9/1.9 MB\u001b[0m \u001b[31m92.7 MB/s\u001b[0m eta \u001b[36m0:00:00\u001b[0m\n",
            "\u001b[?25hDownloading matplotlib-3.10.3-cp311-cp311-manylinux_2_17_x86_64.manylinux2014_x86_64.whl (8.6 MB)\n",
            "\u001b[2K   \u001b[90m━━━━━━━━━━━━━━━━━━━━━━━━━━━━━━━━━━━━━━━━\u001b[0m \u001b[32m8.6/8.6 MB\u001b[0m \u001b[31m130.6 MB/s\u001b[0m eta \u001b[36m0:00:00\u001b[0m\n",
            "\u001b[?25hDownloading scikit_learn-1.7.0-cp311-cp311-manylinux_2_17_x86_64.manylinux2014_x86_64.whl (12.9 MB)\n",
            "\u001b[2K   \u001b[90m━━━━━━━━━━━━━━━━━━━━━━━━━━━━━━━━━━━━━━━━\u001b[0m \u001b[32m12.9/12.9 MB\u001b[0m \u001b[31m127.3 MB/s\u001b[0m eta \u001b[36m0:00:00\u001b[0m\n",
            "\u001b[?25hDownloading transformers-4.51.3-py3-none-any.whl (10.4 MB)\n",
            "\u001b[2K   \u001b[90m━━━━━━━━━━━━━━━━━━━━━━━━━━━━━━━━━━━━━━━━\u001b[0m \u001b[32m10.4/10.4 MB\u001b[0m \u001b[31m141.6 MB/s\u001b[0m eta \u001b[36m0:00:00\u001b[0m\n",
            "\u001b[?25hInstalling collected packages: triton, nvidia-nvtx-cu12, nvidia-nccl-cu12, nvidia-cusparse-cu12, nvidia-curand-cu12, nvidia-cufft-cu12, nvidia-cuda-runtime-cu12, nvidia-cuda-nvrtc-cu12, nvidia-cuda-cupti-cu12, nvidia-cublas-cu12, cupy-cuda12x, scikit-learn, nvidia-cusolver-cu12, nvidia-cudnn-cu12, matplotlib, torch, transformers, torchvision, facenet_pytorch\n",
            "  Attempting uninstall: triton\n",
            "    Found existing installation: triton 3.2.0\n",
            "    Uninstalling triton-3.2.0:\n",
            "      Successfully uninstalled triton-3.2.0\n",
            "  Attempting uninstall: nvidia-nvtx-cu12\n",
            "    Found existing installation: nvidia-nvtx-cu12 12.4.127\n",
            "    Uninstalling nvidia-nvtx-cu12-12.4.127:\n",
            "      Successfully uninstalled nvidia-nvtx-cu12-12.4.127\n",
            "  Attempting uninstall: nvidia-nccl-cu12\n",
            "    Found existing installation: nvidia-nccl-cu12 2.21.5\n",
            "    Uninstalling nvidia-nccl-cu12-2.21.5:\n",
            "      Successfully uninstalled nvidia-nccl-cu12-2.21.5\n",
            "  Attempting uninstall: nvidia-cusparse-cu12\n",
            "    Found existing installation: nvidia-cusparse-cu12 12.5.1.3\n",
            "    Uninstalling nvidia-cusparse-cu12-12.5.1.3:\n",
            "      Successfully uninstalled nvidia-cusparse-cu12-12.5.1.3\n",
            "  Attempting uninstall: nvidia-curand-cu12\n",
            "    Found existing installation: nvidia-curand-cu12 10.3.6.82\n",
            "    Uninstalling nvidia-curand-cu12-10.3.6.82:\n",
            "      Successfully uninstalled nvidia-curand-cu12-10.3.6.82\n",
            "  Attempting uninstall: nvidia-cufft-cu12\n",
            "    Found existing installation: nvidia-cufft-cu12 11.2.3.61\n",
            "    Uninstalling nvidia-cufft-cu12-11.2.3.61:\n",
            "      Successfully uninstalled nvidia-cufft-cu12-11.2.3.61\n",
            "  Attempting uninstall: nvidia-cuda-runtime-cu12\n",
            "    Found existing installation: nvidia-cuda-runtime-cu12 12.5.82\n",
            "    Uninstalling nvidia-cuda-runtime-cu12-12.5.82:\n",
            "      Successfully uninstalled nvidia-cuda-runtime-cu12-12.5.82\n",
            "  Attempting uninstall: nvidia-cuda-nvrtc-cu12\n",
            "    Found existing installation: nvidia-cuda-nvrtc-cu12 12.5.82\n",
            "    Uninstalling nvidia-cuda-nvrtc-cu12-12.5.82:\n",
            "      Successfully uninstalled nvidia-cuda-nvrtc-cu12-12.5.82\n",
            "  Attempting uninstall: nvidia-cuda-cupti-cu12\n",
            "    Found existing installation: nvidia-cuda-cupti-cu12 12.5.82\n",
            "    Uninstalling nvidia-cuda-cupti-cu12-12.5.82:\n",
            "      Successfully uninstalled nvidia-cuda-cupti-cu12-12.5.82\n",
            "  Attempting uninstall: nvidia-cublas-cu12\n",
            "    Found existing installation: nvidia-cublas-cu12 12.5.3.2\n",
            "    Uninstalling nvidia-cublas-cu12-12.5.3.2:\n",
            "      Successfully uninstalled nvidia-cublas-cu12-12.5.3.2\n",
            "  Attempting uninstall: cupy-cuda12x\n",
            "    Found existing installation: cupy-cuda12x 13.3.0\n",
            "    Uninstalling cupy-cuda12x-13.3.0:\n",
            "      Successfully uninstalled cupy-cuda12x-13.3.0\n",
            "  Attempting uninstall: scikit-learn\n",
            "    Found existing installation: scikit-learn 1.6.1\n",
            "    Uninstalling scikit-learn-1.6.1:\n",
            "      Successfully uninstalled scikit-learn-1.6.1\n",
            "  Attempting uninstall: nvidia-cusolver-cu12\n",
            "    Found existing installation: nvidia-cusolver-cu12 11.6.3.83\n",
            "    Uninstalling nvidia-cusolver-cu12-11.6.3.83:\n",
            "      Successfully uninstalled nvidia-cusolver-cu12-11.6.3.83\n",
            "  Attempting uninstall: nvidia-cudnn-cu12\n",
            "    Found existing installation: nvidia-cudnn-cu12 9.3.0.75\n",
            "    Uninstalling nvidia-cudnn-cu12-9.3.0.75:\n",
            "      Successfully uninstalled nvidia-cudnn-cu12-9.3.0.75\n",
            "  Attempting uninstall: matplotlib\n",
            "    Found existing installation: matplotlib 3.10.0\n",
            "    Uninstalling matplotlib-3.10.0:\n",
            "      Successfully uninstalled matplotlib-3.10.0\n",
            "  Attempting uninstall: torch\n",
            "    Found existing installation: torch 2.6.0+cu124\n",
            "    Uninstalling torch-2.6.0+cu124:\n",
            "      Successfully uninstalled torch-2.6.0+cu124\n",
            "  Attempting uninstall: transformers\n",
            "    Found existing installation: transformers 4.52.4\n",
            "    Uninstalling transformers-4.52.4:\n",
            "      Successfully uninstalled transformers-4.52.4\n",
            "  Attempting uninstall: torchvision\n",
            "    Found existing installation: torchvision 0.21.0+cu124\n",
            "    Uninstalling torchvision-0.21.0+cu124:\n",
            "      Successfully uninstalled torchvision-0.21.0+cu124\n",
            "\u001b[31mERROR: pip's dependency resolver does not currently take into account all the packages that are installed. This behaviour is the source of the following dependency conflicts.\n",
            "torchaudio 2.6.0+cu124 requires torch==2.6.0, but you have torch 2.3.0+cu121 which is incompatible.\n",
            "sklearn-compat 0.1.3 requires scikit-learn<1.7,>=1.2, but you have scikit-learn 1.7.0 which is incompatible.\u001b[0m\u001b[31m\n",
            "\u001b[0mSuccessfully installed cupy-cuda12x-13.4.1 facenet_pytorch-2.5.2 matplotlib-3.10.3 nvidia-cublas-cu12-12.1.3.1 nvidia-cuda-cupti-cu12-12.1.105 nvidia-cuda-nvrtc-cu12-12.1.105 nvidia-cuda-runtime-cu12-12.1.105 nvidia-cudnn-cu12-8.9.2.26 nvidia-cufft-cu12-11.0.2.54 nvidia-curand-cu12-10.3.2.106 nvidia-cusolver-cu12-11.4.5.107 nvidia-cusparse-cu12-12.1.0.106 nvidia-nccl-cu12-2.20.5 nvidia-nvtx-cu12-12.1.105 scikit-learn-1.7.0 torch-2.3.0+cu121 torchvision-0.18.0+cu121 transformers-4.51.3 triton-2.3.0\n"
          ]
        },
        {
          "output_type": "display_data",
          "data": {
            "application/vnd.colab-display-data+json": {
              "pip_warning": {
                "packages": [
                  "matplotlib",
                  "mpl_toolkits"
                ]
              },
              "id": "07c921d3b3ed44138a5a926314a0d1a0"
            }
          },
          "metadata": {}
        }
      ],
      "source": [
        "!pip install -r requirements.txt --extra-index-url https://download.pytorch.org/whl/cu121"
      ]
    },
    {
      "cell_type": "code",
      "execution_count": 1,
      "id": "0c5f3dfc",
      "metadata": {
        "colab": {
          "base_uri": "https://localhost:8080/"
        },
        "id": "0c5f3dfc",
        "outputId": "3a9d3f2b-3dbc-4a4d-d784-247ad0562fb3"
      },
      "outputs": [
        {
          "output_type": "stream",
          "name": "stderr",
          "text": [
            "WARNING:dinov2:xFormers not available\n",
            "WARNING:dinov2:xFormers not available\n"
          ]
        }
      ],
      "source": [
        "import cv2\n",
        "import glob\n",
        "import numpy as np\n",
        "import matplotlib.pyplot as plt\n",
        "import os\n",
        "import random\n",
        "import re\n",
        "import sys\n",
        "import torch\n",
        "import torch.nn as nn\n",
        "import torch.nn.init as init\n",
        "import torch.nn.functional as F\n",
        "import torchvision.transforms as T\n",
        "\n",
        "from facenet_pytorch import MTCNN\n",
        "from IPython.display import display\n",
        "from matplotlib import colors\n",
        "from PIL import Image, ImageShow\n",
        "from torch.utils.data import Dataset, DataLoader\n",
        "from torchvision import transforms\n",
        "from transformers import AutoModel, AutoImageProcessor\n",
        "from tqdm import tqdm\n",
        "from sklearn.metrics import roc_auc_score, roc_curve, auc\n",
        "import time\n",
        "from torch.cuda.amp import GradScaler, autocast\n",
        "\n",
        "\n",
        "depth_anything_path = os.path.abspath(\"Depth-Anything-V2\")\n",
        "\n",
        "if depth_anything_path not in sys.path:\n",
        "    sys.path.append(depth_anything_path)\n",
        "from depth_anything_v2.dpt import DepthAnythingV2\n",
        "\n",
        "argv_backup = sys.argv\n",
        "sys.argv = [sys.argv[0]]\n",
        "from pytorch_pwc.run import estimate\n",
        "sys.argv = argv_backup"
      ]
    },
    {
      "cell_type": "markdown",
      "id": "a8580cd0",
      "metadata": {
        "id": "a8580cd0"
      },
      "source": [
        "Download data if running in colab"
      ]
    },
    {
      "cell_type": "code",
      "execution_count": 3,
      "id": "99l0Au36iu5K",
      "metadata": {
        "colab": {
          "base_uri": "https://localhost:8080/"
        },
        "id": "99l0Au36iu5K",
        "outputId": "e4ff7c04-af1e-48dc-b17a-4a4b8fce97a8"
      },
      "outputs": [
        {
          "output_type": "stream",
          "name": "stdout",
          "text": [
            "Mounted at /content/drive\n"
          ]
        }
      ],
      "source": [
        "import zipfile\n",
        "from google.colab import drive\n",
        "drive.mount('/content/drive')\n",
        "zip_path = '/content/drive/MyDrive/Colab Data/'\n",
        "extract_path = '/content/.'\n",
        "\n",
        "# Create the destination folder\n",
        "os.makedirs(extract_path, exist_ok=True)\n",
        "\n",
        "# Extract\n",
        "with zipfile.ZipFile(os.path.join(zip_path, \"flow_data.zip\"), 'r') as zip_ref:\n",
        "    zip_ref.extractall(extract_path)\n",
        "\n",
        "with zipfile.ZipFile(os.path.join(zip_path, \"depth_data.zip\"), 'r') as zip_ref:\n",
        "    zip_ref.extractall(extract_path)"
      ]
    },
    {
      "cell_type": "code",
      "source": [
        "!cp -r '/content/drive/MyDrive/Colab Data/checkpoints' checkpoints"
      ],
      "metadata": {
        "id": "_0crfl3fiEoc"
      },
      "id": "_0crfl3fiEoc",
      "execution_count": 7,
      "outputs": []
    },
    {
      "cell_type": "markdown",
      "id": "db574a14",
      "metadata": {
        "id": "db574a14"
      },
      "source": [
        "### Globals"
      ]
    },
    {
      "cell_type": "code",
      "execution_count": 8,
      "id": "ea4349aa",
      "metadata": {
        "colab": {
          "base_uri": "https://localhost:8080/"
        },
        "id": "ea4349aa",
        "outputId": "d4ed30db-daa1-451a-9ba0-e202a8e2686d"
      },
      "outputs": [
        {
          "output_type": "stream",
          "name": "stdout",
          "text": [
            "cuda\n"
          ]
        }
      ],
      "source": [
        "# data folders\n",
        "video_root = './data' # where the data is stored\n",
        "data_root = './preprocessed_data' # where the pre processed data gets stored\n",
        "data_flow = \"./flow_data\" # where flow data gets saved\n",
        "data_depth = \"./depth_data\"\n",
        "\n",
        "# data loading\n",
        "BATCH_SIZE = 256 # batch size of the preprocessed data\n",
        "\n",
        "# device\n",
        "DEVICE = 'cuda' if torch.cuda.is_available() else 'mps' if torch.backends.mps.is_available() else 'cpu'\n",
        "print(DEVICE)\n",
        "# training\n",
        "NUM_EPOCHS = 15 # epochs when training\n",
        "SKIP_FRAMES = 2 # When processing the video jump some frames to reduce data size\n"
      ]
    },
    {
      "cell_type": "markdown",
      "id": "2d5106e7",
      "metadata": {
        "id": "2d5106e7"
      },
      "source": [
        "### Utils"
      ]
    },
    {
      "cell_type": "code",
      "execution_count": 9,
      "id": "c8b8a222",
      "metadata": {
        "id": "c8b8a222"
      },
      "outputs": [],
      "source": [
        "def split_video_into_frames(path, save_path):\n",
        "    cap = cv2.VideoCapture(path)\n",
        "\n",
        "    frames = []\n",
        "    while cap.isOpened():\n",
        "        success, frame = cap.read()\n",
        "        if not success:\n",
        "            break\n",
        "        frames.append(frame)\n",
        "\n",
        "    cap.release()\n",
        "\n",
        "    faces = [frame_faces for i in range(0, len(frames), BATCH_SIZE) for frame_faces in mtcnn(frames[i:min(len(frames),i+BATCH_SIZE)])]\n",
        "\n",
        "    os.makedirs(save_path, exist_ok=True)\n",
        "    for i, frame_faces in enumerate(faces):\n",
        "        if frame_faces is None:\n",
        "            continue\n",
        "        face = frame_faces[0]\n",
        "        img_pil = Image.fromarray(face.permute(1, 2, 0).numpy().astype(np.uint8))\n",
        "        img_pil.save(os.path.join(save_path, f\"frame_{i}.png\"))\n",
        "\n",
        "def list_leaf_folders(root_dir):\n",
        "    leaf_folders = []\n",
        "    for dirpath, dirnames, _ in os.walk(root_dir):\n",
        "        if not dirnames:\n",
        "            leaf_folders.append(dirpath)\n",
        "    return leaf_folders\n",
        "\n",
        "def natural_sort_key(s):\n",
        "    return [int(text) if text.isdigit() else text.lower() for text in re.split(r'(\\d+)', s)]\n",
        "\n",
        "def list_sorted_images(folder, extensions={'.png', '.jpg', '.jpeg', '.bmp'}):\n",
        "    files = [f for f in os.listdir(folder)\n",
        "             if os.path.isfile(os.path.join(folder, f)) and os.path.splitext(f)[1].lower() in extensions]\n",
        "    files.sort(key=natural_sort_key)\n",
        "    return [os.path.join(folder, f) for f in files]\n",
        "\n",
        "def flow_to_rgb(flow):\n",
        "    u = flow[..., 0]\n",
        "    v = flow[..., 1]\n",
        "\n",
        "    magnitude = np.sqrt(u**2 + v**2)\n",
        "    direction = np.arctan2(v, u)\n",
        "    mag_max = np.max(magnitude)\n",
        "    magnitude = magnitude / mag_max if mag_max != 0 else magnitude\n",
        "\n",
        "    direction = (direction + np.pi) / (2 * np.pi)\n",
        "    saturation = magnitude\n",
        "    value = np.ones_like(magnitude)\n",
        "    hsv_image = np.stack((direction, saturation, value), axis=-1)\n",
        "    rgb_image = colors.hsv_to_rgb(hsv_image.astype(np.float32))\n",
        "    return rgb_image\n",
        "\n",
        "def calculate_flow_picture(img1, img2):\n",
        "    res = estimate(img1, img2)\n",
        "    res = np.array(res.numpy(force=True).transpose(1, 2, 0), np.float32)\n",
        "    res = flow_to_rgb(res)\n",
        "    return res\n",
        "\n",
        "def calculate_depth_picture(model, img):\n",
        "    res = model.infer_image(img)\n",
        "    depth_min = np.min(res)\n",
        "    depth_max = np.max(res)\n",
        "    if depth_max - depth_min < 1e-6:\n",
        "        normalised = np.zeros_like(res, dtype=np.uint8)\n",
        "    else:\n",
        "        normalised = 255 * (res - depth_min) / (depth_max - depth_min)\n",
        "        normalised = normalised.astype(np.uint8)\n",
        "    return normalised\n",
        "\n",
        "def collect_video_folders(base_dir):\n",
        "    folders = []\n",
        "    for root, dirs, _ in os.walk(base_dir):\n",
        "        for d in dirs:\n",
        "            folder_path = os.path.join(root, d)\n",
        "            # check if it contains frames\n",
        "            if any(fname.lower().endswith(('.jpg', '.png')) for fname in os.listdir(folder_path)):\n",
        "                folders.append(folder_path)\n",
        "    return sorted(folders)\n",
        "\n",
        "def extract_frame_paths_and_labels(base_dirs, label, split_ratio = [0.7, 0.2, 0.1]):\n",
        "    train_paths = []\n",
        "    val_paths = []\n",
        "    test_paths = []\n",
        "\n",
        "    for base_dir in base_dirs:\n",
        "        video_folders = collect_video_folders(base_dir)\n",
        "        total_videos = len(video_folders)\n",
        "\n",
        "        train_cutoff = int(total_videos * split_ratio[0])\n",
        "        val_cutoff = int(total_videos * (split_ratio[0] + split_ratio[1]))\n",
        "\n",
        "        for i, video_folder in enumerate(video_folders):\n",
        "            frame_paths = glob.glob(os.path.join(video_folder, '*'))\n",
        "            frame_paths = [f for f in frame_paths if f.lower().endswith(('.jpg', '.png'))]\n",
        "\n",
        "            labeled = [(fp, label) for fp in frame_paths]\n",
        "\n",
        "            if i < train_cutoff:\n",
        "                train_paths.extend(labeled)\n",
        "            elif i < val_cutoff:\n",
        "                val_paths.extend(labeled)\n",
        "            else:\n",
        "                test_paths.extend(labeled)\n",
        "\n",
        "    return train_paths, val_paths, test_paths\n",
        "\n",
        "class FrameDataset(Dataset):\n",
        "    def __init__(self, data, transform=None):\n",
        "        self.data = data\n",
        "        self.transform = transform\n",
        "\n",
        "    def __len__(self):\n",
        "        return len(self.data)\n",
        "\n",
        "    def __getitem__(self, idx):\n",
        "        image_path, label = self.data[idx]\n",
        "        image = Image.open(image_path).convert('RGB')\n",
        "        if self.transform:\n",
        "            image = self.transform(image)\n",
        "        label = torch.tensor(label, dtype=torch.float32)\n",
        "        return image, label\n",
        "\n",
        "def repeat_channels(x):\n",
        "    if isinstance(x, torch.Tensor) and x.dim() == 3 and x.shape[0] == 1:\n",
        "        return x.repeat(3, 1, 1)\n",
        "    elif isinstance(x, torch.Tensor) and x.dim() == 2:\n",
        "        # Add channel dimension if missing\n",
        "        return x.unsqueeze(0).repeat(3, 1, 1)\n",
        "    else:\n",
        "        raise ValueError(f\"Unexpected input shape for repeat_channels: {x.shape}\")\n",
        "\n",
        "image_transform = transforms.Compose([\n",
        "    transforms.Resize((224, 224)),\n",
        "    transforms.ToTensor(),\n",
        "    transforms.Normalize(\n",
        "        mean=[0.5, 0.5, 0.5],\n",
        "        std=[0.5, 0.5, 0.5]\n",
        "    )\n",
        "])\n",
        "\n",
        "\n",
        "def train(model, dataloader, criterion, optimizer, device, scale=True):\n",
        "    model.train()\n",
        "    if scale:\n",
        "        scaler = GradScaler()\n",
        "    running_loss = 0.0\n",
        "    total = 0\n",
        "    correct = 0\n",
        "    all_labels = []\n",
        "    all_probs = []\n",
        "    for images, labels in tqdm(dataloader):\n",
        "        images = images.to(device)\n",
        "        labels = labels.to(device).unsqueeze(1)\n",
        "        optimizer.zero_grad()\n",
        "        with torch.set_grad_enabled(True):\n",
        "            if scale:\n",
        "                with autocast(dtype=torch.float16):\n",
        "                    outputs = model(images)\n",
        "                    loss = criterion(outputs, labels)\n",
        "\n",
        "                scaler.scale(loss).backward()\n",
        "                scaler.step(optimizer)\n",
        "                scaler.update()\n",
        "            else:\n",
        "                outputs = model(images)\n",
        "                loss = criterion(outputs, labels)\n",
        "                loss.backward()\n",
        "                optimizer.step()\n",
        "\n",
        "\n",
        "\n",
        "        running_loss += loss.item() * images.size(0)\n",
        "\n",
        "        probs = torch.sigmoid(outputs)\n",
        "        preds = probs > 0.5\n",
        "        correct += (preds == labels.bool()).sum().item()\n",
        "        total += labels.size(0)\n",
        "\n",
        "        all_labels.append(labels.cpu())\n",
        "        all_probs.append(probs.cpu())\n",
        "\n",
        "    epoch_loss = running_loss / total\n",
        "    epoch_acc = correct / total\n",
        "    all_labels = torch.cat(all_labels).numpy()\n",
        "    all_probs = torch.cat(all_probs).detach().numpy()\n",
        "    return epoch_loss, epoch_acc, all_labels, all_probs\n",
        "\n",
        "def evaluate(model, dataloader, criterion, device, scale=True):\n",
        "    model.eval()\n",
        "    running_loss = 0.0\n",
        "    total = 0\n",
        "    correct = 0\n",
        "    all_labels = []\n",
        "    all_probs = []\n",
        "\n",
        "    with torch.no_grad():\n",
        "        for images, labels in tqdm(dataloader):\n",
        "            images = images.to(device)\n",
        "            labels = labels.to(device).unsqueeze(1)\n",
        "            if scale:\n",
        "                with autocast(dtype=torch.float16):\n",
        "                    outputs = model(images)\n",
        "                    loss = criterion(outputs, labels)\n",
        "            else:\n",
        "                outputs = model(images)\n",
        "                loss = criterion(outputs, labels)\n",
        "\n",
        "            running_loss += loss.item() * images.size(0)\n",
        "\n",
        "            probs = torch.sigmoid(outputs)\n",
        "            preds = probs > 0.5\n",
        "            correct += (preds == labels.bool()).sum().item()\n",
        "            total += labels.size(0)\n",
        "\n",
        "            all_labels.append(labels.cpu())\n",
        "            all_probs.append(probs.cpu())\n",
        "\n",
        "    epoch_loss = running_loss / total\n",
        "    epoch_acc = correct / total\n",
        "    all_labels = torch.cat(all_labels).numpy()\n",
        "    all_probs = torch.cat(all_probs).numpy()\n",
        "    return epoch_loss, epoch_acc, all_labels, all_probs\n",
        "\n",
        "def plot_training_progress(train_accuracies, val_accuracies, train_aurocs, val_aurocs):\n",
        "    epochs = range(1, len(train_accuracies)+1)\n",
        "    plt.figure(figsize=(12,5))\n",
        "\n",
        "    plt.subplot(1,2,1)\n",
        "    plt.plot(epochs, train_accuracies, label='Train Acc')\n",
        "    plt.plot(epochs, val_accuracies, label='Val Acc')\n",
        "    plt.xlabel('Epoch')\n",
        "    plt.ylabel('Accuracy')\n",
        "    plt.legend()\n",
        "    plt.title('Accuracy')\n",
        "    plt.xticks(list(epochs))\n",
        "    plt.ylim(0.5, 1.0)\n",
        "\n",
        "    plt.subplot(1,2,2)\n",
        "    plt.plot(epochs, train_aurocs, label='Train AUROC')\n",
        "    plt.plot(epochs, val_aurocs, label='Val AUROC')\n",
        "    plt.xlabel('Epoch')\n",
        "    plt.ylabel('AUROC')\n",
        "    plt.legend()\n",
        "    plt.title('AUROC')\n",
        "    plt.xticks(list(epochs))\n",
        "    plt.ylim(0.5, 1.0)\n",
        "\n",
        "    plt.tight_layout()\n",
        "    plt.show()\n",
        "\n",
        "def train_fp16_distilattion(model_learner, model_teacher, dataloader, criterion, optimizer, device):\n",
        "    scaler = GradScaler(device)\n",
        "    model_learner.train()\n",
        "    model_teacher.train()\n",
        "    all_labels = []\n",
        "    all_probs = []\n",
        "    running_loss = 0.0\n",
        "    total = 0\n",
        "    correct = 0\n",
        "\n",
        "    for images, labels in tqdm.tqdm(dataloader):\n",
        "        images = images.to(device, non_blocking=True)\n",
        "        labels = labels.to(device, non_blocking=True).unsqueeze(1)\n",
        "\n",
        "        optimizer.zero_grad()\n",
        "        with torch.no_grad():\n",
        "            with autocast(dtype=torch.float16):\n",
        "                cls_token_teacher = model_teacher(images)\n",
        "                cls_token_teacher = cls_token_teacher.detach()\n",
        "        with torch.set_grad_enabled(True):\n",
        "            with autocast(dtype=torch.float16):\n",
        "                cls_token_teacher_projected = model_learner.cls_projector(cls_token_teacher)\n",
        "                cls_token, outputs  = model_learner(images)\n",
        "\n",
        "                loss = criterion(outputs, labels, cls_token, cls_token_teacher_projected)\n",
        "\n",
        "        scaler.scale(loss).backward()\n",
        "        scaler.step(optimizer)\n",
        "        scaler.update()\n",
        "\n",
        "        running_loss += loss.item() * images.size(0)\n",
        "\n",
        "        probs = torch.sigmoid(outputs)\n",
        "        preds = probs > 0.5\n",
        "        correct += (preds == labels.bool()).sum().item()\n",
        "        total += labels.size(0)\n",
        "\n",
        "        all_labels.append(labels.cpu())\n",
        "        all_probs.append(probs.cpu())\n",
        "\n",
        "    epoch_loss = running_loss / total\n",
        "    epoch_acc = correct / total\n",
        "    all_labels = torch.cat(all_labels).numpy()\n",
        "    all_probs = torch.cat(all_probs).numpy()\n",
        "    return epoch_loss, epoch_acc, all_labels, all_probs\n",
        "\n",
        "def evaluate_fp16_distilattion(model_learner, model_teacher, dataloader, criterion, device):\n",
        "    model_teacher.eval()\n",
        "    model_learner.eval()\n",
        "    all_labels, all_probs = [], []\n",
        "    running_loss = 0.0\n",
        "    total = 0\n",
        "    correct = 0\n",
        "\n",
        "    with torch.no_grad():\n",
        "        for images, labels in tqdm.tqdm(dataloader):\n",
        "            images = images.to(device, non_blocking=True)\n",
        "            labels = labels.to(device, non_blocking=True).unsqueeze(1)\n",
        "\n",
        "            with autocast(dtype=torch.float16):\n",
        "                cls_token_teacher = model_teacher(images)\n",
        "                cls_token_teacher = cls_token_teacher.detach()\n",
        "                cls_token_teacher_projected = model_learner.cls_projector(cls_token_teacher)\n",
        "                cls_token, outputs = model_learner(images)\n",
        "\n",
        "                loss = criterion(outputs, labels, cls_token, cls_token_teacher_projected)\n",
        "\n",
        "            running_loss += loss.item() * images.size(0)\n",
        "            probs = torch.sigmoid(outputs)\n",
        "            preds = probs > 0.5\n",
        "            correct += (preds == labels.bool()).sum().item()\n",
        "            total += labels.size(0)\n",
        "\n",
        "            all_labels.append(labels.cpu())\n",
        "            all_probs.append(probs.cpu())\n",
        "\n",
        "    epoch_loss = running_loss / total\n",
        "    epoch_acc = correct / total\n",
        "    all_labels = torch.cat(all_labels).numpy()\n",
        "    all_probs = torch.cat(all_probs).numpy()\n",
        "    return epoch_loss, epoch_acc, all_labels, all_probs\n",
        "\n",
        "class DistillationLoss(nn.Module):\n",
        "    def __init__(self, alpha=0.5, temperature=1.0):\n",
        "        super().__init__()\n",
        "        self.alpha = alpha\n",
        "        self.temperature = temperature\n",
        "        self.bce = nn.BCEWithLogitsLoss()\n",
        "        self.distill_loss = self._kl_loss\n",
        "\n",
        "    def forward(self, student_output, labels, student_cls, teacher_cls):\n",
        "        cls_loss = self.bce(student_output, labels)\n",
        "        distill = self.distill_loss(student_cls, teacher_cls)\n",
        "        total_loss = self.alpha * cls_loss + (1 - self.alpha) * distill\n",
        "        return total_loss\n",
        "\n",
        "    def _kl_loss(self, student_cls, teacher_cls):\n",
        "        T = self.temperature\n",
        "        student_log_probs = F.log_softmax(student_cls / T, dim=-1)\n",
        "        teacher_probs = F.softmax(teacher_cls / T, dim=-1)\n",
        "        return F.kl_div(student_log_probs, teacher_probs, reduction='batchmean') * (T * T)\n",
        "def prepare_data_loaders(original_sources, manipulated_sources):\n",
        "    # Collect data\n",
        "    train_real, val_real, test_real = extract_frame_paths_and_labels(original_sources, label=0)\n",
        "    train_fake, val_fake, test_fake = extract_frame_paths_and_labels(manipulated_sources, label=1)\n",
        "\n",
        "    # Combine\n",
        "    train_data = train_real + train_fake\n",
        "    val_data = val_real + val_fake\n",
        "    test_data = test_real + test_fake\n",
        "\n",
        "    # Sample output\n",
        "    print(f\"Training samples: {len(train_data)}\")\n",
        "    print(f\"Testing samples: {len(test_data)}\")\n",
        "    print(f\"Sample training item: {train_data[0]}\")\n",
        "\n",
        "    train_dataset = FrameDataset(train_data, transform=image_transform)\n",
        "    val_dataset = FrameDataset(val_data, transform=image_transform)\n",
        "    test_dataset = FrameDataset(test_data, transform=image_transform)\n",
        "\n",
        "    train_loader = DataLoader(train_dataset, batch_size=BATCH_SIZE, shuffle=True, num_workers=4, pin_memory=True)\n",
        "    val_loader = DataLoader(val_dataset, batch_size=BATCH_SIZE, shuffle=False, num_workers=4, pin_memory=True)\n",
        "    test_loader = DataLoader(test_dataset, batch_size=BATCH_SIZE, shuffle=False, num_workers=4, pin_memory=True)\n",
        "    return train_loader, val_loader, test_loader\n",
        "\n",
        "def plot_auc_curve(y_true, y_scores, title):\n",
        "    fpr, tpr, thresholds = roc_curve(y_true, y_scores)\n",
        "    roc_auc = auc(fpr, tpr)\n",
        "\n",
        "    plt.figure(figsize=(8, 6))\n",
        "    plt.plot(fpr, tpr, color='darkorange', lw=2, label=f\"AUC = {roc_auc:.2f}\")\n",
        "    plt.plot([0, 1], [0, 1], color='navy', lw=2, linestyle='--')\n",
        "    plt.xlabel(\"False Positive Rate\")\n",
        "    plt.ylabel(\"True Positive Rate\")\n",
        "    plt.title(title)\n",
        "    plt.legend(loc=\"lower right\")\n",
        "    plt.grid(True)\n",
        "    plt.show()\n",
        "\n",
        "def train_full_model(model, original_sources, manipulated_sources, model_name, scale=True):\n",
        "\n",
        "    train_loader, val_loader, test_loader = prepare_data_loaders(original_sources, manipulated_sources)\n",
        "\n",
        "    train_accuracies, val_accuracies = [], []\n",
        "    train_aurocs, val_aurocs = [], []\n",
        "    epoch_times = []\n",
        "\n",
        "    start_epoch = 1\n",
        "\n",
        "    criterion = torch.nn.BCEWithLogitsLoss()\n",
        "    backbone_params = []\n",
        "    classifier_params = []\n",
        "\n",
        "    for name, param in model.named_parameters():\n",
        "        if param.requires_grad:\n",
        "            if \"backbone\" in name:\n",
        "                backbone_params.append(param)\n",
        "            else:\n",
        "                classifier_params.append(param)\n",
        "    print(len(backbone_params), len(classifier_params))\n",
        "    optimizer = torch.optim.Adam([\n",
        "        {\"params\": backbone_params, \"lr\": 1e-5},\n",
        "        {\"params\": classifier_params, \"lr\": 1e-4},\n",
        "    ])\n",
        "    best_epoch, best_val = -1, 1e9\n",
        "    for epoch in range(start_epoch, start_epoch + NUM_EPOCHS):\n",
        "        save_path = os.path.join(\"checkpoints\", f\"{model_name}_epoch_{epoch}.pth\")\n",
        "        epoch_start = time.time()\n",
        "\n",
        "        train_loss, train_acc, train_labels, train_probs = train(model, train_loader, criterion, optimizer, DEVICE, scale)\n",
        "        val_loss, val_acc, val_labels, val_probs = evaluate(model, val_loader, criterion, DEVICE, scale)\n",
        "\n",
        "        if val_loss < best_val:\n",
        "            best_val = val_loss\n",
        "            best_epoch = epoch\n",
        "        # AUROC\n",
        "        train_auroc = roc_auc_score(train_labels, train_probs)\n",
        "        val_auroc = roc_auc_score(val_labels, val_probs)\n",
        "\n",
        "        train_accuracies.append(train_acc)\n",
        "        val_accuracies.append(val_acc)\n",
        "        train_aurocs.append(train_auroc)\n",
        "        val_aurocs.append(val_auroc)\n",
        "\n",
        "        epoch_time = time.time() - epoch_start\n",
        "        epoch_times.append(epoch_time)\n",
        "\n",
        "        print(f\"Epoch {epoch}/{NUM_EPOCHS}\")\n",
        "        print(f\"Train Loss: {train_loss:.4f} | Train Acc: {train_acc:.4f} | Train AUROC: {train_auroc:.4f}\")\n",
        "        print(f\"Val Loss: {val_loss:.4f} | Val Acc: {val_acc:.4f} | Val AUROC: {val_auroc:.4f}\")\n",
        "        print(f\"Epoch time: {epoch_time:.2f} seconds\")\n",
        "\n",
        "        torch.save({\n",
        "            'epoch': epoch,\n",
        "            'model_state_dict': model.state_dict(),\n",
        "            'optimizer_state_dict': optimizer.state_dict(),\n",
        "            'train_loss': train_loss,\n",
        "            'val_loss': val_loss,\n",
        "        }, save_path)\n",
        "\n",
        "    plot_training_progress(train_accuracies, val_accuracies, train_aurocs, val_aurocs)\n",
        "    model_data = torch.load( os.path.join(\"checkpoints\", f\"{model_name}_epoch_{best_epoch}.pth\"))\n",
        "    model.load_state_dict(model_data[\"model_state_dict\"])\n",
        "    start = time.time()\n",
        "    test_loss, test_acc, test_labels, test_probs = evaluate(model, test_loader, criterion, DEVICE, scale)\n",
        "    runtime = time.time() - start\n",
        "    plot_auc_curve(test_labels, test_probs, title=f\"AUC Curve, eval done in {runtime:.4f} seconds, accuracy: {test_acc:.4f}\")\n",
        "\n",
        "    torch.save({\n",
        "        \"model_state_dict\": model.state_dict()\n",
        "    }, os.path.join(\"checkpoints\", f\"{model_name}_final.pth\"))\n",
        "\n",
        "\n",
        "def train_full_model_distillation(model, teacher_model, original_sources, manipulated_sources, model_name):\n",
        "    train_loader, val_loader, test_loader = prepare_data_loaders(original_sources, manipulated_sources)\n",
        "\n",
        "    train_accuracies, val_accuracies = [], []\n",
        "    train_aurocs, val_aurocs = [], []\n",
        "    epoch_times = []\n",
        "\n",
        "    start_epoch = 1\n",
        "\n",
        "    criterion = DistillationLoss()\n",
        "    backbone_params = []\n",
        "    classifier_params = []\n",
        "\n",
        "    for name, param in model.named_parameters():\n",
        "        if param.requires_grad:\n",
        "            if \"backbone\" in name:\n",
        "                backbone_params.append(param)\n",
        "            else:\n",
        "                classifier_params.append(param)\n",
        "    print(len(backbone_params), len(classifier_params))\n",
        "    optimizer = torch.optim.Adam([\n",
        "        {\"params\": backbone_params, \"lr\": 5e-5},\n",
        "        {\"params\": classifier_params, \"lr\": 1e-4},\n",
        "    ])\n",
        "    best_epoch, best_val = -1, 1e9\n",
        "    for epoch in range(start_epoch, start_epoch + NUM_EPOCHS):\n",
        "        save_path = os.path.join(\"checkpoints\", f\"{model_name}_epoch_{epoch}.pth\")\n",
        "        epoch_start = time.time()\n",
        "\n",
        "        train_loss, train_acc, train_labels, train_probs = train_fp16_distilattion(model, teacher_model, train_loader, criterion, optimizer, DEVICE)\n",
        "        val_loss, val_acc, val_labels, val_probs = evaluate_fp16_distilattion(model, teacher_model, val_loader, criterion, DEVICE)\n",
        "\n",
        "        if val_loss < best_val:\n",
        "            best_val = val_loss\n",
        "            best_epoch = epoch\n",
        "        # AUROC\n",
        "        train_auroc = roc_auc_score(train_labels, train_probs)\n",
        "        val_auroc = roc_auc_score(val_labels, val_probs)\n",
        "\n",
        "        train_accuracies.append(train_acc)\n",
        "        val_accuracies.append(val_acc)\n",
        "        train_aurocs.append(train_auroc)\n",
        "        val_aurocs.append(val_auroc)\n",
        "\n",
        "        epoch_time = time.time() - epoch_start\n",
        "        epoch_times.append(epoch_time)\n",
        "\n",
        "        print(f\"Epoch {epoch}/{NUM_EPOCHS}\")\n",
        "        print(f\"Train Loss: {train_loss:.4f} | Train Acc: {train_acc:.4f} | Train AUROC: {train_auroc:.4f}\")\n",
        "        print(f\"Val Loss: {val_loss:.4f} | Val Acc: {val_acc:.4f} | Val AUROC: {val_auroc:.4f}\")\n",
        "        print(f\"Epoch time: {epoch_time:.2f} seconds\")\n",
        "\n",
        "        torch.save({\n",
        "            'epoch': epoch,\n",
        "            'model_state_dict': model.state_dict(),\n",
        "            'optimizer_state_dict': optimizer.state_dict(),\n",
        "            'train_loss': train_loss,\n",
        "            'val_loss': val_loss,\n",
        "        }, save_path)\n",
        "\n",
        "    plot_training_progress(train_accuracies, val_accuracies, train_aurocs, val_aurocs)\n",
        "    model_data = torch.load( os.path.join(\"checkpoints\", f\"{model_name}_epoch_{best_epoch}.pth\"))\n",
        "    model.load_state_dict(model_data[\"model_state_dict\"])\n",
        "    start = time.time()\n",
        "    test_loss, test_acc, test_labels, test_probs = evaluate(model, test_loader, criterion, DEVICE)\n",
        "    runtime = time.time() - start\n",
        "    plot_auc_curve(test_labels, test_probs, title=f\"AUC Curve, eval done in {runtime:.4f} seconds, accuracy: {test_acc:.4f}\")\n",
        "\n",
        "    torch.save({\n",
        "        \"model_state_dict\": model.state_dict()\n",
        "    }, os.path.join(\"checkpoints\", f\"{model_name}_final.pth\"))\n"
      ]
    },
    {
      "cell_type": "markdown",
      "id": "b3b857a2",
      "metadata": {
        "id": "b3b857a2"
      },
      "source": [
        "#### Feature extraction generation\n",
        "\n",
        "In the sections below we tested the feature extraction generation techniques"
      ]
    },
    {
      "cell_type": "markdown",
      "id": "cbf7c0c7",
      "metadata": {
        "id": "cbf7c0c7"
      },
      "source": [
        "### Data\n",
        "\n",
        "Code for downloading the data is based on FaceForensics++ dataset and is available on https://github.com/ondyari/FaceForensics"
      ]
    },
    {
      "cell_type": "markdown",
      "id": "9dd3304f",
      "metadata": {
        "id": "9dd3304f"
      },
      "source": [
        "1. Splitting the videos into frames"
      ]
    },
    {
      "cell_type": "code",
      "execution_count": null,
      "id": "4f1e8c2d",
      "metadata": {
        "id": "4f1e8c2d"
      },
      "outputs": [],
      "source": [
        "mtcnn = MTCNN(margin=20, keep_all=True, post_process=False, device=DEVICE)\n",
        "\n",
        "for dirpath, _, filenames in os.walk(video_root):\n",
        "    if len(filenames) == 0:\n",
        "        continue\n",
        "    print(f\"Processing videos in {dirpath}\")\n",
        "    for file in tqdm(filenames):\n",
        "        if file.endswith('.mp4'):\n",
        "            video_path = os.path.join(dirpath, file)\n",
        "            relative_path = os.path.relpath(video_path, video_root)\n",
        "            output_folder = os.path.join(data_root, os.path.splitext(relative_path)[0])\n",
        "            split_video_into_frames(video_path, output_folder)"
      ]
    },
    {
      "cell_type": "markdown",
      "id": "609f238c",
      "metadata": {
        "id": "609f238c"
      },
      "source": [
        "\n",
        "\n",
        "2. Calculating Optical Flow"
      ]
    },
    {
      "cell_type": "code",
      "execution_count": null,
      "id": "3681431a",
      "metadata": {
        "id": "3681431a"
      },
      "outputs": [],
      "source": [
        "leaf_folders = list_leaf_folders(data_root)\n",
        "print(leaf_folders)\n",
        "for folder in tqdm(leaf_folders):\n",
        "    relative_path = os.path.relpath(folder, data_root)\n",
        "    images = list_sorted_images(folder)\n",
        "    images = [torch.FloatTensor(np.ascontiguousarray(np.array(Image.open(image))[:, :, ::-1].transpose(2, 0, 1).astype(np.float32) * (1.0 / 255.0))) for image in images]\n",
        "    for i in range(0, len(images)-1, SKIP_FRAMES):\n",
        "        img1, img2 = images[i], images[i+1]\n",
        "        res = calculate_flow_picture(img1, img2)\n",
        "        save_path = os.path.join(data_flow, relative_path)\n",
        "        os.makedirs(save_path, exist_ok=True)\n",
        "        rgb_flow_uint8 = (res * 255).astype(np.uint8)\n",
        "        pil_img = Image.fromarray(rgb_flow_uint8, mode='RGB')\n",
        "        pil_img.save(os.path.join(save_path, f\"flow_image_{i}.png\"))"
      ]
    },
    {
      "cell_type": "markdown",
      "id": "8d204d08",
      "metadata": {
        "id": "8d204d08"
      },
      "source": [
        "3. Depth Estimation"
      ]
    },
    {
      "cell_type": "code",
      "execution_count": null,
      "id": "f367d4c7",
      "metadata": {
        "id": "f367d4c7",
        "outputId": "e288a852-b6b8-41fc-d46c-d86432b2a259"
      },
      "outputs": [
        {
          "name": "stderr",
          "output_type": "stream",
          "text": [
            "100%|██████████| 400/400 [2:57:51<00:00, 26.68s/it]  \n"
          ]
        }
      ],
      "source": [
        "model_configs = {\n",
        "    'vits': {'encoder': 'vits', 'features': 64, 'out_channels': [48, 96, 192, 384]},\n",
        "    'vitb': {'encoder': 'vitb', 'features': 128, 'out_channels': [96, 192, 384, 768]},\n",
        "    'vitl': {'encoder': 'vitl', 'features': 256, 'out_channels': [256, 512, 1024, 1024]},\n",
        "    'vitg': {'encoder': 'vitg', 'features': 384, 'out_channels': [1536, 1536, 1536, 1536]}\n",
        "}\n",
        "\n",
        "model = DepthAnythingV2(**model_configs['vitb'])\n",
        "model.load_state_dict(torch.load(f'DepthAnythingV2Checkpoints/depth_anything_v2_vitb.pth', map_location='cpu'))\n",
        "model = model.to(DEVICE).eval()\n",
        "\n",
        "\n",
        "leaf_folders = list_leaf_folders(data_root)\n",
        "for folder in tqdm(leaf_folders):\n",
        "    relative_path = os.path.relpath(folder, data_root)\n",
        "    images = list_sorted_images(folder)\n",
        "    for i in range(0, len(images), SKIP_FRAMES):\n",
        "        img_path = images[i]\n",
        "        img = np.array(Image.open(img_path))\n",
        "        res = calculate_depth_picture(model, img)\n",
        "        save_path = os.path.join(data_depth, relative_path)\n",
        "        os.makedirs(save_path, exist_ok=True)\n",
        "        pil_img = Image.fromarray(res, mode='L')\n",
        "        pil_img.save(os.path.join(save_path, f\"depth_image_{i}.png\"))"
      ]
    },
    {
      "cell_type": "markdown",
      "id": "5e025ca9",
      "metadata": {
        "id": "5e025ca9"
      },
      "source": [
        "### Network"
      ]
    },
    {
      "cell_type": "code",
      "execution_count": 10,
      "id": "0a0c5915",
      "metadata": {
        "id": "0a0c5915"
      },
      "outputs": [],
      "source": [
        "class DinoBinaryClassifier(nn.Module):\n",
        "    def __init__(self, backbone):\n",
        "        super().__init__()\n",
        "        self.backbone = backbone\n",
        "        self.classifier = nn.Sequential(\n",
        "            nn.Linear(self.backbone.config.hidden_size, 256, bias=True),\n",
        "            nn.ReLU(),\n",
        "            nn.Dropout(0.5),\n",
        "            nn.Linear(256, 1, bias=True)  # binary output\n",
        "        )\n",
        "        self._init_weights()\n",
        "\n",
        "    def _init_weights(self):\n",
        "        for layer in self.classifier:\n",
        "            if isinstance(layer, nn.Linear):\n",
        "                init.kaiming_normal_(layer.weight, nonlinearity='relu')\n",
        "                init.zeros_(layer.bias)\n",
        "\n",
        "    def forward(self, pixel_values):\n",
        "        outputs = self.backbone(pixel_values=pixel_values)\n",
        "        cls_token = outputs.last_hidden_state[:, 0]\n",
        "        return self.classifier(cls_token)"
      ]
    },
    {
      "cell_type": "markdown",
      "id": "5cd398ae",
      "metadata": {
        "id": "5cd398ae"
      },
      "source": [
        "#### Flow based network"
      ]
    },
    {
      "cell_type": "code",
      "execution_count": 11,
      "id": "d171386d",
      "metadata": {
        "id": "d171386d"
      },
      "outputs": [],
      "source": [
        "# Define your paths\n",
        "original_sources_flow = [\n",
        "    'flow_data/original_sequences/actors/c23/videos',\n",
        "    'flow_data/original_sequences/youtube/c23/videos'\n",
        "]\n",
        "\n",
        "manipulated_sources_flow = [\n",
        "    'flow_data/manipulated_sequences/DeepFakeDetection/c23/videos',\n",
        "    'flow_data/manipulated_sequences/Deepfakes/c23/videos',\n",
        "    # 'flow_data/manipulated_sequences/Face2Face/c23/videos',\n",
        "    # 'flow_data/manipulated_sequences/FaceShifter/c23/videos',\n",
        "    # 'flow_data/manipulated_sequences/FaceSwap/c23/videos',\n",
        "    # 'flow_data/manipulated_sequences/NeuralTextures/c23/videos'\n",
        "]"
      ]
    },
    {
      "cell_type": "code",
      "execution_count": null,
      "id": "cc74e757",
      "metadata": {
        "colab": {
          "base_uri": "https://localhost:8080/",
          "height": 118,
          "referenced_widgets": [
            "383cc78db7c24146893fc32a42119a5a",
            "b0089595863b49c1976954b324711961",
            "ce2292b178eb4f65afaf6cf3deb3f58f",
            "e2695814a06b41f8bf7e1ac954f154ec",
            "f67ff29a8aae4c9086dd99e80c0256c4",
            "5cfc18103e054f0085f63b2cb95e3d3d",
            "3f461ae0cfb34fbc8f3d0f5ab6b1809b",
            "eb10e6909414445a875b0ab0daa7dfdf",
            "706cdc393ac94e59acc01520dacfea36",
            "72b32d06aca848258f265775069deadc",
            "8fbd641fb01548789b3031bb6ae9a149",
            "6b3125b763dd4b04a739bc1b1cf20dc0",
            "657b9b2ee6044062a526935a6200d54e",
            "8817e497117f4f44b4f35aad2d0ec76e",
            "6e3b6a2436a64802b2159b908be8e2c6",
            "352c75b063f04521b88dbf2003e17ee1",
            "00fdc451a39e4303af7f255784c403f9",
            "be2ff3a63dbb45659a5cf0f0365f2d18",
            "8b319098dbac4430a25b2ee4c56fe6b3",
            "209fde5091cc465ca67b2395a6691613",
            "9eca2f68afd046868167193f5fa6a6b4",
            "f09d1ee30ffa4f2e88dbf016b2bd42b7"
          ]
        },
        "id": "cc74e757",
        "outputId": "efc4626d-52b5-43a5-ea73-0e7937532ee5"
      },
      "outputs": [
        {
          "data": {
            "application/vnd.jupyter.widget-view+json": {
              "model_id": "383cc78db7c24146893fc32a42119a5a",
              "version_major": 2,
              "version_minor": 0
            },
            "text/plain": [
              "preprocessor_config.json:   0%|          | 0.00/436 [00:00<?, ?B/s]"
            ]
          },
          "metadata": {},
          "output_type": "display_data"
        },
        {
          "name": "stderr",
          "output_type": "stream",
          "text": [
            "Using a slow image processor as `use_fast` is unset and a slow processor was saved with this model. `use_fast=True` will be the default behavior in v4.52, even if the model was saved with a slow processor. This will result in minor differences in outputs. You'll still be able to use a slow processor with `use_fast=False`.\n"
          ]
        },
        {
          "data": {
            "application/vnd.jupyter.widget-view+json": {
              "model_id": "6b3125b763dd4b04a739bc1b1cf20dc0",
              "version_major": 2,
              "version_minor": 0
            },
            "text/plain": [
              "config.json:   0%|          | 0.00/548 [00:00<?, ?B/s]"
            ]
          },
          "metadata": {},
          "output_type": "display_data"
        }
      ],
      "source": [
        "model_name = \"facebook/dinov2-base\"\n",
        "processor = AutoImageProcessor.from_pretrained(model_name)\n",
        "backbone = AutoModel.from_pretrained(model_name)\n",
        "\n",
        "for param in backbone.parameters():\n",
        "    param.requires_grad = False\n",
        "\n",
        "for name, param in backbone.named_parameters():\n",
        "    if \"encoder.layer.10\" in name or \"encoder.layer.11\" in name:\n",
        "        param.requires_grad = True\n",
        "\n",
        "model = DinoBinaryClassifier(backbone)\n",
        "model.to(DEVICE);"
      ]
    },
    {
      "cell_type": "code",
      "execution_count": null,
      "id": "9ccbd3c2",
      "metadata": {
        "colab": {
          "background_save": true
        },
        "id": "9ccbd3c2",
        "outputId": "a7760dfa-e7f7-4a20-ffa9-518309cc8020"
      },
      "outputs": [
        {
          "name": "stdout",
          "output_type": "stream",
          "text": [
            "Training samples: 60365\n",
            "Testing samples: 10762\n",
            "Sample training item: ('flow_data/original_sequences/actors/c23/videos/01__hugging_happy/flow_image_192.png', 0)\n",
            "36 4\n"
          ]
        },
        {
          "name": "stderr",
          "output_type": "stream",
          "text": [
            "100%|██████████| 236/236 [02:57<00:00,  1.33it/s]\n",
            "100%|██████████| 65/65 [00:38<00:00,  1.70it/s]\n"
          ]
        },
        {
          "name": "stdout",
          "output_type": "stream",
          "text": [
            "Epoch 1/15\n",
            "Train Loss: 0.7143 | Train Acc: 0.5308 | Train AUROC: 0.5314\n",
            "Val Loss: 0.6925 | Val Acc: 0.5333 | Val AUROC: 0.5341\n",
            "Epoch time: 215.68 seconds\n"
          ]
        },
        {
          "name": "stderr",
          "output_type": "stream",
          "text": [
            "100%|██████████| 236/236 [03:00<00:00,  1.31it/s]\n",
            "100%|██████████| 65/65 [00:38<00:00,  1.69it/s]\n"
          ]
        },
        {
          "name": "stdout",
          "output_type": "stream",
          "text": [
            "Epoch 2/15\n",
            "Train Loss: 0.6850 | Train Acc: 0.5472 | Train AUROC: 0.5619\n",
            "Val Loss: 0.6922 | Val Acc: 0.5349 | Val AUROC: 0.5462\n",
            "Epoch time: 218.91 seconds\n"
          ]
        },
        {
          "name": "stderr",
          "output_type": "stream",
          "text": [
            "100%|██████████| 236/236 [03:00<00:00,  1.31it/s]\n",
            "100%|██████████| 65/65 [00:38<00:00,  1.69it/s]\n"
          ]
        },
        {
          "name": "stdout",
          "output_type": "stream",
          "text": [
            "Epoch 3/15\n",
            "Train Loss: 0.6811 | Train Acc: 0.5594 | Train AUROC: 0.5775\n",
            "Val Loss: 0.6920 | Val Acc: 0.5494 | Val AUROC: 0.5632\n",
            "Epoch time: 218.83 seconds\n"
          ]
        },
        {
          "name": "stderr",
          "output_type": "stream",
          "text": [
            "100%|██████████| 236/236 [03:00<00:00,  1.31it/s]\n",
            "100%|██████████| 65/65 [00:38<00:00,  1.69it/s]\n"
          ]
        },
        {
          "name": "stdout",
          "output_type": "stream",
          "text": [
            "Epoch 4/15\n",
            "Train Loss: 0.6757 | Train Acc: 0.5705 | Train AUROC: 0.5961\n",
            "Val Loss: 0.6849 | Val Acc: 0.5634 | Val AUROC: 0.5815\n",
            "Epoch time: 218.80 seconds\n"
          ]
        },
        {
          "name": "stderr",
          "output_type": "stream",
          "text": [
            "100%|██████████| 236/236 [03:00<00:00,  1.31it/s]\n",
            "100%|██████████| 65/65 [00:38<00:00,  1.69it/s]\n"
          ]
        },
        {
          "name": "stdout",
          "output_type": "stream",
          "text": [
            "Epoch 5/15\n",
            "Train Loss: 0.6687 | Train Acc: 0.5842 | Train AUROC: 0.6164\n",
            "Val Loss: 0.6930 | Val Acc: 0.5620 | Val AUROC: 0.5814\n",
            "Epoch time: 218.70 seconds\n"
          ]
        },
        {
          "name": "stderr",
          "output_type": "stream",
          "text": [
            "100%|██████████| 236/236 [03:00<00:00,  1.31it/s]\n",
            "100%|██████████| 65/65 [00:38<00:00,  1.69it/s]\n"
          ]
        },
        {
          "name": "stdout",
          "output_type": "stream",
          "text": [
            "Epoch 6/15\n",
            "Train Loss: 0.6613 | Train Acc: 0.5952 | Train AUROC: 0.6325\n",
            "Val Loss: 0.6909 | Val Acc: 0.5752 | Val AUROC: 0.5926\n",
            "Epoch time: 218.70 seconds\n"
          ]
        },
        {
          "name": "stderr",
          "output_type": "stream",
          "text": [
            "100%|██████████| 236/236 [03:00<00:00,  1.31it/s]\n",
            "100%|██████████| 65/65 [00:38<00:00,  1.70it/s]\n"
          ]
        },
        {
          "name": "stdout",
          "output_type": "stream",
          "text": [
            "Epoch 7/15\n",
            "Train Loss: 0.6506 | Train Acc: 0.6109 | Train AUROC: 0.6535\n",
            "Val Loss: 0.6911 | Val Acc: 0.5698 | Val AUROC: 0.5925\n",
            "Epoch time: 218.58 seconds\n"
          ]
        },
        {
          "name": "stderr",
          "output_type": "stream",
          "text": [
            "100%|██████████| 236/236 [03:00<00:00,  1.31it/s]\n",
            "100%|██████████| 65/65 [00:38<00:00,  1.69it/s]\n"
          ]
        },
        {
          "name": "stdout",
          "output_type": "stream",
          "text": [
            "Epoch 8/15\n",
            "Train Loss: 0.6398 | Train Acc: 0.6233 | Train AUROC: 0.6720\n",
            "Val Loss: 0.6917 | Val Acc: 0.5731 | Val AUROC: 0.5969\n",
            "Epoch time: 218.83 seconds\n"
          ]
        },
        {
          "name": "stderr",
          "output_type": "stream",
          "text": [
            "100%|██████████| 236/236 [03:00<00:00,  1.31it/s]\n",
            "100%|██████████| 65/65 [00:38<00:00,  1.70it/s]\n"
          ]
        },
        {
          "name": "stdout",
          "output_type": "stream",
          "text": [
            "Epoch 9/15\n",
            "Train Loss: 0.6248 | Train Acc: 0.6410 | Train AUROC: 0.6956\n",
            "Val Loss: 0.7201 | Val Acc: 0.5658 | Val AUROC: 0.5826\n",
            "Epoch time: 218.59 seconds\n"
          ]
        },
        {
          "name": "stderr",
          "output_type": "stream",
          "text": [
            "100%|██████████| 236/236 [03:00<00:00,  1.31it/s]\n",
            "100%|██████████| 65/65 [00:38<00:00,  1.69it/s]\n"
          ]
        },
        {
          "name": "stdout",
          "output_type": "stream",
          "text": [
            "Epoch 10/15\n",
            "Train Loss: 0.6065 | Train Acc: 0.6572 | Train AUROC: 0.7196\n",
            "Val Loss: 0.7259 | Val Acc: 0.5590 | Val AUROC: 0.5785\n",
            "Epoch time: 218.86 seconds\n"
          ]
        },
        {
          "name": "stderr",
          "output_type": "stream",
          "text": [
            "100%|██████████| 236/236 [03:00<00:00,  1.31it/s]\n",
            "100%|██████████| 65/65 [00:38<00:00,  1.69it/s]\n"
          ]
        },
        {
          "name": "stdout",
          "output_type": "stream",
          "text": [
            "Epoch 11/15\n",
            "Train Loss: 0.5802 | Train Acc: 0.6785 | Train AUROC: 0.7507\n",
            "Val Loss: 0.7467 | Val Acc: 0.5613 | Val AUROC: 0.5915\n",
            "Epoch time: 218.99 seconds\n"
          ]
        },
        {
          "name": "stderr",
          "output_type": "stream",
          "text": [
            "100%|██████████| 236/236 [03:00<00:00,  1.31it/s]\n",
            "100%|██████████| 65/65 [00:38<00:00,  1.69it/s]\n"
          ]
        },
        {
          "name": "stdout",
          "output_type": "stream",
          "text": [
            "Epoch 12/15\n",
            "Train Loss: 0.5454 | Train Acc: 0.7042 | Train AUROC: 0.7858\n",
            "Val Loss: 0.8247 | Val Acc: 0.5690 | Val AUROC: 0.5830\n",
            "Epoch time: 218.70 seconds\n"
          ]
        },
        {
          "name": "stderr",
          "output_type": "stream",
          "text": [
            "100%|██████████| 236/236 [03:00<00:00,  1.31it/s]\n",
            "100%|██████████| 65/65 [00:38<00:00,  1.69it/s]\n"
          ]
        },
        {
          "name": "stdout",
          "output_type": "stream",
          "text": [
            "Epoch 13/15\n",
            "Train Loss: 0.5056 | Train Acc: 0.7307 | Train AUROC: 0.8208\n",
            "Val Loss: 0.9000 | Val Acc: 0.5558 | Val AUROC: 0.5698\n",
            "Epoch time: 218.88 seconds\n"
          ]
        },
        {
          "name": "stderr",
          "output_type": "stream",
          "text": [
            "100%|██████████| 236/236 [03:00<00:00,  1.31it/s]\n",
            "100%|██████████| 65/65 [00:38<00:00,  1.69it/s]\n"
          ]
        },
        {
          "name": "stdout",
          "output_type": "stream",
          "text": [
            "Epoch 14/15\n",
            "Train Loss: 0.4559 | Train Acc: 0.7631 | Train AUROC: 0.8580\n",
            "Val Loss: 0.9687 | Val Acc: 0.5561 | Val AUROC: 0.5737\n",
            "Epoch time: 218.74 seconds\n"
          ]
        },
        {
          "name": "stderr",
          "output_type": "stream",
          "text": [
            "100%|██████████| 236/236 [03:00<00:00,  1.31it/s]\n",
            "100%|██████████| 65/65 [00:38<00:00,  1.70it/s]\n"
          ]
        },
        {
          "name": "stdout",
          "output_type": "stream",
          "text": [
            "Epoch 15/15\n",
            "Train Loss: 0.3974 | Train Acc: 0.7981 | Train AUROC: 0.8943\n",
            "Val Loss: 1.1866 | Val Acc: 0.5621 | Val AUROC: 0.5728\n",
            "Epoch time: 218.57 seconds\n"
          ]
        },
        {
          "data": {
            "image/png": "[encoded data removed]",
            "text/plain": [
              "<Figure size 1200x500 with 2 Axes>"
            ]
          },
          "metadata": {},
          "output_type": "display_data"
        },
        {
          "name": "stderr",
          "output_type": "stream",
          "text": [
            "100%|██████████| 43/43 [00:25<00:00,  1.69it/s]\n"
          ]
        },
        {
          "data": {
            "image/png": "[encoded data removed]",
            "text/plain": [
              "<Figure size 800x600 with 1 Axes>"
            ]
          },
          "metadata": {},
          "output_type": "display_data"
        }
      ],
      "source": [
        "train_full_model(model, original_sources_flow, manipulated_sources_flow, \"flow_dinov2_base_fp16\")"
      ]
    },
    {
      "cell_type": "markdown",
      "id": "c43949af",
      "metadata": {
        "id": "c43949af"
      },
      "source": [
        "#### Depth Based network"
      ]
    },
    {
      "cell_type": "code",
      "execution_count": 12,
      "id": "74c41592",
      "metadata": {
        "id": "74c41592"
      },
      "outputs": [],
      "source": [
        "# Define your paths\n",
        "original_sources_depth = [\n",
        "    'depth_data/original_sequences/actors/c23/videos',\n",
        "    'depth_data/original_sequences/youtube/c23/videos'\n",
        "]\n",
        "\n",
        "manipulated_sources_depth = [\n",
        "    'depth_data/manipulated_sequences/DeepFakeDetection/c23/videos',\n",
        "    'depth_data/manipulated_sequences/Deepfakes/c23/videos',\n",
        "    # 'depth_data/manipulated_sequences/Face2Face/c23/videos',\n",
        "    # 'depth_data/manipulated_sequences/FaceShifter/c23/videos',\n",
        "    # 'depth_data/manipulated_sequences/FaceSwap/c23/videos',\n",
        "    # 'depth_data/manipulated_sequences/NeuralTextures/c23/videos'\n",
        "]"
      ]
    },
    {
      "cell_type": "code",
      "execution_count": null,
      "id": "b9aadae9",
      "metadata": {
        "colab": {
          "background_save": true
        },
        "id": "b9aadae9",
        "outputId": "2e0ff737-baf8-4aed-8fe2-97693cad5e42"
      },
      "outputs": [
        {
          "data": {
            "text/plain": [
              "DinoBinaryClassifier(\n",
              "  (backbone): Dinov2Model(\n",
              "    (embeddings): Dinov2Embeddings(\n",
              "      (patch_embeddings): Dinov2PatchEmbeddings(\n",
              "        (projection): Conv2d(3, 768, kernel_size=(14, 14), stride=(14, 14))\n",
              "      )\n",
              "      (dropout): Dropout(p=0.0, inplace=False)\n",
              "    )\n",
              "    (encoder): Dinov2Encoder(\n",
              "      (layer): ModuleList(\n",
              "        (0-11): 12 x Dinov2Layer(\n",
              "          (norm1): LayerNorm((768,), eps=1e-06, elementwise_affine=True)\n",
              "          (attention): Dinov2Attention(\n",
              "            (attention): Dinov2SelfAttention(\n",
              "              (query): Linear(in_features=768, out_features=768, bias=True)\n",
              "              (key): Linear(in_features=768, out_features=768, bias=True)\n",
              "              (value): Linear(in_features=768, out_features=768, bias=True)\n",
              "            )\n",
              "            (output): Dinov2SelfOutput(\n",
              "              (dense): Linear(in_features=768, out_features=768, bias=True)\n",
              "              (dropout): Dropout(p=0.0, inplace=False)\n",
              "            )\n",
              "          )\n",
              "          (layer_scale1): Dinov2LayerScale()\n",
              "          (drop_path): Identity()\n",
              "          (norm2): LayerNorm((768,), eps=1e-06, elementwise_affine=True)\n",
              "          (mlp): Dinov2MLP(\n",
              "            (fc1): Linear(in_features=768, out_features=3072, bias=True)\n",
              "            (activation): GELUActivation()\n",
              "            (fc2): Linear(in_features=3072, out_features=768, bias=True)\n",
              "          )\n",
              "          (layer_scale2): Dinov2LayerScale()\n",
              "        )\n",
              "      )\n",
              "    )\n",
              "    (layernorm): LayerNorm((768,), eps=1e-06, elementwise_affine=True)\n",
              "  )\n",
              "  (classifier): Sequential(\n",
              "    (0): Linear(in_features=768, out_features=256, bias=True)\n",
              "    (1): ReLU()\n",
              "    (2): Dropout(p=0.5, inplace=False)\n",
              "    (3): Linear(in_features=256, out_features=1, bias=True)\n",
              "  )\n",
              ")"
            ]
          },
          "execution_count": 10,
          "metadata": {},
          "output_type": "execute_result"
        }
      ],
      "source": [
        "model_name = \"facebook/dinov2-base\"\n",
        "processor = AutoImageProcessor.from_pretrained(model_name)\n",
        "backbone = AutoModel.from_pretrained(model_name)\n",
        "\n",
        "for param in backbone.parameters():\n",
        "    param.requires_grad = False\n",
        "\n",
        "for name, param in backbone.named_parameters():\n",
        "    if \"encoder.layer.10\" in name or \"encoder.layer.11\" in name:\n",
        "        param.requires_grad = True\n",
        "\n",
        "model = DinoBinaryClassifier(backbone)\n",
        "model.to(DEVICE)"
      ]
    },
    {
      "cell_type": "code",
      "execution_count": null,
      "id": "69827b83",
      "metadata": {
        "colab": {
          "background_save": true
        },
        "id": "69827b83",
        "outputId": "6c927690-4d9d-4e79-92d2-b5a3f95229f0"
      },
      "outputs": [
        {
          "name": "stdout",
          "output_type": "stream",
          "text": [
            "Training samples: 90617\n",
            "Testing samples: 16155\n",
            "Sample training item: ('depth_data/original_sequences/actors/c23/videos/01__hugging_happy/depth_image_484.png', 0)\n",
            "36 4\n"
          ]
        },
        {
          "name": "stderr",
          "output_type": "stream",
          "text": [
            "100%|██████████| 354/354 [04:30<00:00,  1.31it/s]\n",
            "100%|██████████| 97/97 [00:57<00:00,  1.70it/s]\n"
          ]
        },
        {
          "name": "stdout",
          "output_type": "stream",
          "text": [
            "Epoch 1/15\n",
            "Train Loss: 0.4065 | Train Acc: 0.8095 | Train AUROC: 0.8965\n",
            "Val Loss: 0.8566 | Val Acc: 0.6916 | Val AUROC: 0.7707\n",
            "Epoch time: 327.32 seconds\n"
          ]
        },
        {
          "name": "stderr",
          "output_type": "stream",
          "text": [
            "100%|██████████| 354/354 [04:30<00:00,  1.31it/s]\n",
            "100%|██████████| 97/97 [00:57<00:00,  1.70it/s]\n"
          ]
        },
        {
          "name": "stdout",
          "output_type": "stream",
          "text": [
            "Epoch 2/15\n",
            "Train Loss: 0.1240 | Train Acc: 0.9505 | Train AUROC: 0.9906\n",
            "Val Loss: 1.0836 | Val Acc: 0.6913 | Val AUROC: 0.7691\n",
            "Epoch time: 327.17 seconds\n"
          ]
        },
        {
          "name": "stderr",
          "output_type": "stream",
          "text": [
            "100%|██████████| 354/354 [04:29<00:00,  1.31it/s]\n",
            "100%|██████████| 97/97 [00:57<00:00,  1.70it/s]\n"
          ]
        },
        {
          "name": "stdout",
          "output_type": "stream",
          "text": [
            "Epoch 3/15\n",
            "Train Loss: 0.0651 | Train Acc: 0.9746 | Train AUROC: 0.9974\n",
            "Val Loss: 1.1404 | Val Acc: 0.7267 | Val AUROC: 0.8157\n",
            "Epoch time: 327.19 seconds\n"
          ]
        },
        {
          "name": "stderr",
          "output_type": "stream",
          "text": [
            "100%|██████████| 354/354 [04:30<00:00,  1.31it/s]\n",
            "100%|██████████| 97/97 [00:56<00:00,  1.70it/s]\n"
          ]
        },
        {
          "name": "stdout",
          "output_type": "stream",
          "text": [
            "Epoch 4/15\n",
            "Train Loss: 0.0429 | Train Acc: 0.9826 | Train AUROC: 0.9988\n",
            "Val Loss: 1.3141 | Val Acc: 0.6925 | Val AUROC: 0.7755\n",
            "Epoch time: 327.21 seconds\n"
          ]
        },
        {
          "name": "stderr",
          "output_type": "stream",
          "text": [
            "100%|██████████| 354/354 [04:30<00:00,  1.31it/s]\n",
            "100%|██████████| 97/97 [00:57<00:00,  1.70it/s]\n"
          ]
        },
        {
          "name": "stdout",
          "output_type": "stream",
          "text": [
            "Epoch 5/15\n",
            "Train Loss: 0.0312 | Train Acc: 0.9868 | Train AUROC: 0.9994\n",
            "Val Loss: 1.4001 | Val Acc: 0.6819 | Val AUROC: 0.7641\n",
            "Epoch time: 327.23 seconds\n"
          ]
        },
        {
          "name": "stderr",
          "output_type": "stream",
          "text": [
            "100%|██████████| 354/354 [04:29<00:00,  1.31it/s]\n",
            "100%|██████████| 97/97 [00:57<00:00,  1.70it/s]\n"
          ]
        },
        {
          "name": "stdout",
          "output_type": "stream",
          "text": [
            "Epoch 6/15\n",
            "Train Loss: 0.0224 | Train Acc: 0.9902 | Train AUROC: 0.9997\n",
            "Val Loss: 1.3787 | Val Acc: 0.7137 | Val AUROC: 0.8012\n",
            "Epoch time: 327.05 seconds\n"
          ]
        },
        {
          "name": "stderr",
          "output_type": "stream",
          "text": [
            "100%|██████████| 354/354 [04:30<00:00,  1.31it/s]\n",
            "100%|██████████| 97/97 [00:57<00:00,  1.70it/s]\n"
          ]
        },
        {
          "name": "stdout",
          "output_type": "stream",
          "text": [
            "Epoch 7/15\n",
            "Train Loss: 0.0196 | Train Acc: 0.9916 | Train AUROC: 0.9998\n",
            "Val Loss: 2.3288 | Val Acc: 0.6689 | Val AUROC: 0.7788\n",
            "Epoch time: 327.26 seconds\n"
          ]
        },
        {
          "name": "stderr",
          "output_type": "stream",
          "text": [
            "100%|██████████| 354/354 [04:29<00:00,  1.31it/s]\n",
            "100%|██████████| 97/97 [00:57<00:00,  1.70it/s]\n"
          ]
        },
        {
          "name": "stdout",
          "output_type": "stream",
          "text": [
            "Epoch 8/15\n",
            "Train Loss: 0.0167 | Train Acc: 0.9926 | Train AUROC: 0.9998\n",
            "Val Loss: 1.4743 | Val Acc: 0.6930 | Val AUROC: 0.7750\n",
            "Epoch time: 327.17 seconds\n"
          ]
        },
        {
          "name": "stderr",
          "output_type": "stream",
          "text": [
            "100%|██████████| 354/354 [04:29<00:00,  1.31it/s]\n",
            "100%|██████████| 97/97 [00:57<00:00,  1.70it/s]\n"
          ]
        },
        {
          "name": "stdout",
          "output_type": "stream",
          "text": [
            "Epoch 9/15\n",
            "Train Loss: 0.0144 | Train Acc: 0.9935 | Train AUROC: 0.9999\n",
            "Val Loss: 1.4889 | Val Acc: 0.7102 | Val AUROC: 0.7996\n",
            "Epoch time: 326.93 seconds\n"
          ]
        },
        {
          "name": "stderr",
          "output_type": "stream",
          "text": [
            "100%|██████████| 354/354 [04:29<00:00,  1.31it/s]\n",
            "100%|██████████| 97/97 [00:57<00:00,  1.70it/s]\n"
          ]
        },
        {
          "name": "stdout",
          "output_type": "stream",
          "text": [
            "Epoch 10/15\n",
            "Train Loss: 0.0116 | Train Acc: 0.9946 | Train AUROC: 0.9999\n",
            "Val Loss: 1.6621 | Val Acc: 0.7055 | Val AUROC: 0.8040\n",
            "Epoch time: 326.66 seconds\n"
          ]
        },
        {
          "name": "stderr",
          "output_type": "stream",
          "text": [
            "100%|██████████| 354/354 [04:29<00:00,  1.31it/s]\n",
            "100%|██████████| 97/97 [00:57<00:00,  1.70it/s]\n"
          ]
        },
        {
          "name": "stdout",
          "output_type": "stream",
          "text": [
            "Epoch 11/15\n",
            "Train Loss: 0.0142 | Train Acc: 0.9940 | Train AUROC: 0.9999\n",
            "Val Loss: 1.3583 | Val Acc: 0.7028 | Val AUROC: 0.7924\n",
            "Epoch time: 326.59 seconds\n"
          ]
        },
        {
          "name": "stderr",
          "output_type": "stream",
          "text": [
            "100%|██████████| 354/354 [04:29<00:00,  1.31it/s]\n",
            "100%|██████████| 97/97 [00:57<00:00,  1.70it/s]\n"
          ]
        },
        {
          "name": "stdout",
          "output_type": "stream",
          "text": [
            "Epoch 12/15\n",
            "Train Loss: 0.0090 | Train Acc: 0.9960 | Train AUROC: 1.0000\n",
            "Val Loss: 1.8443 | Val Acc: 0.7028 | Val AUROC: 0.7877\n",
            "Epoch time: 326.52 seconds\n"
          ]
        },
        {
          "name": "stderr",
          "output_type": "stream",
          "text": [
            "100%|██████████| 354/354 [04:29<00:00,  1.31it/s]\n",
            "100%|██████████| 97/97 [00:57<00:00,  1.70it/s]\n"
          ]
        },
        {
          "name": "stdout",
          "output_type": "stream",
          "text": [
            "Epoch 13/15\n",
            "Train Loss: 0.0110 | Train Acc: 0.9955 | Train AUROC: 0.9999\n",
            "Val Loss: 1.8465 | Val Acc: 0.7003 | Val AUROC: 0.7885\n",
            "Epoch time: 326.49 seconds\n"
          ]
        },
        {
          "name": "stderr",
          "output_type": "stream",
          "text": [
            "100%|██████████| 354/354 [04:29<00:00,  1.32it/s]\n",
            "100%|██████████| 97/97 [00:57<00:00,  1.70it/s]\n"
          ]
        },
        {
          "name": "stdout",
          "output_type": "stream",
          "text": [
            "Epoch 14/15\n",
            "Train Loss: 0.0092 | Train Acc: 0.9961 | Train AUROC: 0.9999\n",
            "Val Loss: 2.0693 | Val Acc: 0.6830 | Val AUROC: 0.7663\n",
            "Epoch time: 326.27 seconds\n"
          ]
        },
        {
          "name": "stderr",
          "output_type": "stream",
          "text": [
            "100%|██████████| 354/354 [04:29<00:00,  1.31it/s]\n",
            "100%|██████████| 97/97 [00:56<00:00,  1.70it/s]\n"
          ]
        },
        {
          "name": "stdout",
          "output_type": "stream",
          "text": [
            "Epoch 15/15\n",
            "Train Loss: 0.0113 | Train Acc: 0.9952 | Train AUROC: 0.9999\n",
            "Val Loss: 1.7021 | Val Acc: 0.6952 | Val AUROC: 0.7790\n",
            "Epoch time: 326.29 seconds\n"
          ]
        },
        {
          "data": {
            "image/png": "[encoded data removed]",
            "text/plain": [
              "<Figure size 1200x500 with 2 Axes>"
            ]
          },
          "metadata": {},
          "output_type": "display_data"
        },
        {
          "name": "stderr",
          "output_type": "stream",
          "text": [
            "100%|██████████| 64/64 [00:37<00:00,  1.70it/s]\n"
          ]
        },
        {
          "data": {
            "image/png": "[encoded data removed]",
            "text/plain": [
              "<Figure size 800x600 with 1 Axes>"
            ]
          },
          "metadata": {},
          "output_type": "display_data"
        }
      ],
      "source": [
        "train_full_model(model, original_sources_depth, manipulated_sources_depth, \"depth_dinov2_base_fp16\")"
      ]
    },
    {
      "cell_type": "markdown",
      "id": "2b8e1aa6",
      "metadata": {
        "id": "2b8e1aa6"
      },
      "source": [
        "### Compression methods\n",
        "\n",
        "1. Quantization\n",
        "\n",
        "The models above were trained using fp16 instead of fp32 using autocast. This automatically uses fp16 when it is safe and uses fp32 when it is required. This promises almost no loss in performance while making the model more efficient. To test this we can train a model while turning this feature off."
      ]
    },
    {
      "cell_type": "code",
      "execution_count": null,
      "id": "59af9717",
      "metadata": {
        "colab": {
          "base_uri": "https://localhost:8080/"
        },
        "id": "59af9717",
        "outputId": "e09f2c88-6073-46dd-f856-fbcbcfecb0d3"
      },
      "outputs": [
        {
          "data": {
            "text/plain": [
              "DinoBinaryClassifier(\n",
              "  (backbone): Dinov2Model(\n",
              "    (embeddings): Dinov2Embeddings(\n",
              "      (patch_embeddings): Dinov2PatchEmbeddings(\n",
              "        (projection): Conv2d(3, 768, kernel_size=(14, 14), stride=(14, 14))\n",
              "      )\n",
              "      (dropout): Dropout(p=0.0, inplace=False)\n",
              "    )\n",
              "    (encoder): Dinov2Encoder(\n",
              "      (layer): ModuleList(\n",
              "        (0-11): 12 x Dinov2Layer(\n",
              "          (norm1): LayerNorm((768,), eps=1e-06, elementwise_affine=True)\n",
              "          (attention): Dinov2Attention(\n",
              "            (attention): Dinov2SelfAttention(\n",
              "              (query): Linear(in_features=768, out_features=768, bias=True)\n",
              "              (key): Linear(in_features=768, out_features=768, bias=True)\n",
              "              (value): Linear(in_features=768, out_features=768, bias=True)\n",
              "            )\n",
              "            (output): Dinov2SelfOutput(\n",
              "              (dense): Linear(in_features=768, out_features=768, bias=True)\n",
              "              (dropout): Dropout(p=0.0, inplace=False)\n",
              "            )\n",
              "          )\n",
              "          (layer_scale1): Dinov2LayerScale()\n",
              "          (drop_path): Identity()\n",
              "          (norm2): LayerNorm((768,), eps=1e-06, elementwise_affine=True)\n",
              "          (mlp): Dinov2MLP(\n",
              "            (fc1): Linear(in_features=768, out_features=3072, bias=True)\n",
              "            (activation): GELUActivation()\n",
              "            (fc2): Linear(in_features=3072, out_features=768, bias=True)\n",
              "          )\n",
              "          (layer_scale2): Dinov2LayerScale()\n",
              "        )\n",
              "      )\n",
              "    )\n",
              "    (layernorm): LayerNorm((768,), eps=1e-06, elementwise_affine=True)\n",
              "  )\n",
              "  (classifier): Sequential(\n",
              "    (0): Linear(in_features=768, out_features=256, bias=True)\n",
              "    (1): ReLU()\n",
              "    (2): Dropout(p=0.5, inplace=False)\n",
              "    (3): Linear(in_features=256, out_features=1, bias=True)\n",
              "  )\n",
              ")"
            ]
          },
          "execution_count": 15,
          "metadata": {},
          "output_type": "execute_result"
        }
      ],
      "source": [
        "model_name = \"facebook/dinov2-base\"\n",
        "processor = AutoImageProcessor.from_pretrained(model_name)\n",
        "backbone = AutoModel.from_pretrained(model_name)\n",
        "\n",
        "for param in backbone.parameters():\n",
        "    param.requires_grad = False\n",
        "\n",
        "for name, param in backbone.named_parameters():\n",
        "    if \"encoder.layer.10\" in name or \"encoder.layer.11\" in name:\n",
        "        param.requires_grad = True\n",
        "\n",
        "model = DinoBinaryClassifier(backbone)\n",
        "model.to(DEVICE)"
      ]
    },
    {
      "cell_type": "code",
      "execution_count": null,
      "id": "d84ab1b1",
      "metadata": {
        "colab": {
          "background_save": true,
          "base_uri": "https://localhost:8080/"
        },
        "id": "d84ab1b1",
        "outputId": "16e85c22-904d-4ec4-9014-bc02118f2ed7"
      },
      "outputs": [
        {
          "name": "stdout",
          "output_type": "stream",
          "text": [
            "Training samples: 90617\n",
            "Testing samples: 16155\n",
            "Sample training item: ('depth_data/original_sequences/actors/c23/videos/01__hugging_happy/depth_image_484.png', 0)\n",
            "36 4\n"
          ]
        },
        {
          "name": "stderr",
          "output_type": "stream",
          "text": [
            "100%|██████████| 354/354 [13:14<00:00,  2.24s/it]\n",
            "100%|██████████| 97/97 [02:53<00:00,  1.78s/it]\n"
          ]
        },
        {
          "name": "stdout",
          "output_type": "stream",
          "text": [
            "Epoch 1/15\n",
            "Train Loss: 0.3802 | Train Acc: 0.8187 | Train AUROC: 0.9080\n",
            "Val Loss: 0.8002 | Val Acc: 0.7172 | Val AUROC: 0.7890\n",
            "Epoch time: 967.45 seconds\n"
          ]
        },
        {
          "name": "stderr",
          "output_type": "stream",
          "text": [
            "100%|██████████| 354/354 [13:14<00:00,  2.24s/it]\n",
            "100%|██████████| 97/97 [02:51<00:00,  1.77s/it]\n"
          ]
        },
        {
          "name": "stdout",
          "output_type": "stream",
          "text": [
            "Epoch 2/15\n",
            "Train Loss: 0.1142 | Train Acc: 0.9547 | Train AUROC: 0.9919\n",
            "Val Loss: 1.0361 | Val Acc: 0.7103 | Val AUROC: 0.7804\n",
            "Epoch time: 966.00 seconds\n"
          ]
        },
        {
          "name": "stderr",
          "output_type": "stream",
          "text": [
            "100%|██████████| 354/354 [13:14<00:00,  2.24s/it]\n",
            "100%|██████████| 97/97 [02:53<00:00,  1.78s/it]\n"
          ]
        },
        {
          "name": "stdout",
          "output_type": "stream",
          "text": [
            "Epoch 3/15\n",
            "Train Loss: 0.0608 | Train Acc: 0.9764 | Train AUROC: 0.9977\n",
            "Val Loss: 1.1020 | Val Acc: 0.7176 | Val AUROC: 0.7906\n",
            "Epoch time: 967.16 seconds\n"
          ]
        },
        {
          "name": "stderr",
          "output_type": "stream",
          "text": [
            "100%|██████████| 354/354 [13:12<00:00,  2.24s/it]\n",
            "100%|██████████| 97/97 [02:53<00:00,  1.79s/it]\n"
          ]
        },
        {
          "name": "stdout",
          "output_type": "stream",
          "text": [
            "Epoch 4/15\n",
            "Train Loss: 0.0409 | Train Acc: 0.9834 | Train AUROC: 0.9989\n",
            "Val Loss: 1.4624 | Val Acc: 0.6996 | Val AUROC: 0.7701\n",
            "Epoch time: 966.02 seconds\n"
          ]
        },
        {
          "name": "stderr",
          "output_type": "stream",
          "text": [
            "100%|██████████| 354/354 [13:12<00:00,  2.24s/it]\n",
            "100%|██████████| 97/97 [02:52<00:00,  1.78s/it]\n"
          ]
        },
        {
          "name": "stdout",
          "output_type": "stream",
          "text": [
            "Epoch 5/15\n",
            "Train Loss: 0.0322 | Train Acc: 0.9869 | Train AUROC: 0.9993\n",
            "Val Loss: 1.5593 | Val Acc: 0.7105 | Val AUROC: 0.7763\n",
            "Epoch time: 965.19 seconds\n"
          ]
        },
        {
          "name": "stderr",
          "output_type": "stream",
          "text": [
            "100%|██████████| 354/354 [13:13<00:00,  2.24s/it]\n",
            "100%|██████████| 97/97 [02:53<00:00,  1.78s/it]\n"
          ]
        },
        {
          "name": "stdout",
          "output_type": "stream",
          "text": [
            "Epoch 6/15\n",
            "Train Loss: 0.0215 | Train Acc: 0.9903 | Train AUROC: 0.9997\n",
            "Val Loss: 1.5224 | Val Acc: 0.7111 | Val AUROC: 0.7832\n",
            "Epoch time: 966.34 seconds\n"
          ]
        },
        {
          "name": "stderr",
          "output_type": "stream",
          "text": [
            "100%|██████████| 354/354 [13:12<00:00,  2.24s/it]\n",
            "100%|██████████| 97/97 [02:53<00:00,  1.78s/it]\n"
          ]
        },
        {
          "name": "stdout",
          "output_type": "stream",
          "text": [
            "Epoch 7/15\n",
            "Train Loss: 0.0204 | Train Acc: 0.9911 | Train AUROC: 0.9997\n",
            "Val Loss: 1.2317 | Val Acc: 0.7049 | Val AUROC: 0.7830\n",
            "Epoch time: 965.47 seconds\n"
          ]
        },
        {
          "name": "stderr",
          "output_type": "stream",
          "text": [
            "100%|██████████| 354/354 [13:12<00:00,  2.24s/it]\n",
            "100%|██████████| 97/97 [02:51<00:00,  1.77s/it]\n"
          ]
        },
        {
          "name": "stdout",
          "output_type": "stream",
          "text": [
            "Epoch 8/15\n",
            "Train Loss: 0.0168 | Train Acc: 0.9929 | Train AUROC: 0.9998\n",
            "Val Loss: 1.7549 | Val Acc: 0.7148 | Val AUROC: 0.7842\n",
            "Epoch time: 963.67 seconds\n"
          ]
        },
        {
          "name": "stderr",
          "output_type": "stream",
          "text": [
            "100%|██████████| 354/354 [13:12<00:00,  2.24s/it]\n",
            "100%|██████████| 97/97 [02:51<00:00,  1.77s/it]\n"
          ]
        },
        {
          "name": "stdout",
          "output_type": "stream",
          "text": [
            "Epoch 9/15\n",
            "Train Loss: 0.0161 | Train Acc: 0.9929 | Train AUROC: 0.9998\n",
            "Val Loss: 1.8684 | Val Acc: 0.7028 | Val AUROC: 0.7703\n",
            "Epoch time: 963.55 seconds\n"
          ]
        },
        {
          "name": "stderr",
          "output_type": "stream",
          "text": [
            "100%|██████████| 354/354 [13:11<00:00,  2.24s/it]\n",
            "100%|██████████| 97/97 [02:53<00:00,  1.78s/it]\n"
          ]
        },
        {
          "name": "stdout",
          "output_type": "stream",
          "text": [
            "Epoch 10/15\n",
            "Train Loss: 0.0113 | Train Acc: 0.9950 | Train AUROC: 0.9999\n",
            "Val Loss: 2.0887 | Val Acc: 0.6781 | Val AUROC: 0.7547\n",
            "Epoch time: 964.88 seconds\n"
          ]
        },
        {
          "name": "stderr",
          "output_type": "stream",
          "text": [
            "100%|██████████| 354/354 [13:10<00:00,  2.23s/it]\n",
            "100%|██████████| 97/97 [02:52<00:00,  1.78s/it]\n"
          ]
        },
        {
          "name": "stdout",
          "output_type": "stream",
          "text": [
            "Epoch 11/15\n",
            "Train Loss: 0.0121 | Train Acc: 0.9943 | Train AUROC: 0.9999\n",
            "Val Loss: 1.9951 | Val Acc: 0.6921 | Val AUROC: 0.7674\n",
            "Epoch time: 963.19 seconds\n"
          ]
        },
        {
          "name": "stderr",
          "output_type": "stream",
          "text": [
            "100%|██████████| 354/354 [13:11<00:00,  2.24s/it]\n",
            "100%|██████████| 97/97 [02:53<00:00,  1.78s/it]\n"
          ]
        },
        {
          "name": "stdout",
          "output_type": "stream",
          "text": [
            "Epoch 12/15\n",
            "Train Loss: 0.0126 | Train Acc: 0.9944 | Train AUROC: 0.9999\n",
            "Val Loss: 2.1893 | Val Acc: 0.6902 | Val AUROC: 0.7585\n",
            "Epoch time: 964.49 seconds\n"
          ]
        },
        {
          "name": "stderr",
          "output_type": "stream",
          "text": [
            "100%|██████████| 354/354 [13:11<00:00,  2.24s/it]\n",
            "100%|██████████| 97/97 [02:52<00:00,  1.78s/it]\n"
          ]
        },
        {
          "name": "stdout",
          "output_type": "stream",
          "text": [
            "Epoch 13/15\n",
            "Train Loss: 0.0107 | Train Acc: 0.9952 | Train AUROC: 0.9999\n",
            "Val Loss: 1.9969 | Val Acc: 0.7130 | Val AUROC: 0.7858\n",
            "Epoch time: 964.28 seconds\n"
          ]
        },
        {
          "name": "stderr",
          "output_type": "stream",
          "text": [
            "100%|██████████| 354/354 [13:10<00:00,  2.23s/it]\n",
            "100%|██████████| 97/97 [02:52<00:00,  1.77s/it]\n"
          ]
        },
        {
          "name": "stdout",
          "output_type": "stream",
          "text": [
            "Epoch 14/15\n",
            "Train Loss: 0.0104 | Train Acc: 0.9954 | Train AUROC: 0.9999\n",
            "Val Loss: 2.0727 | Val Acc: 0.6946 | Val AUROC: 0.7721\n",
            "Epoch time: 962.45 seconds\n"
          ]
        },
        {
          "name": "stderr",
          "output_type": "stream",
          "text": [
            "100%|██████████| 354/354 [13:10<00:00,  2.23s/it]\n",
            "100%|██████████| 97/97 [02:51<00:00,  1.77s/it]\n"
          ]
        },
        {
          "name": "stdout",
          "output_type": "stream",
          "text": [
            "Epoch 15/15\n",
            "Train Loss: 0.0119 | Train Acc: 0.9950 | Train AUROC: 0.9999\n",
            "Val Loss: 2.1441 | Val Acc: 0.6842 | Val AUROC: 0.7525\n",
            "Epoch time: 962.26 seconds\n"
          ]
        },
        {
          "data": {
            "image/png": "[encoded data removed]",
            "text/plain": [
              "<Figure size 1200x500 with 2 Axes>"
            ]
          },
          "metadata": {},
          "output_type": "display_data"
        },
        {
          "name": "stderr",
          "output_type": "stream",
          "text": [
            "100%|██████████| 64/64 [01:53<00:00,  1.77s/it]\n"
          ]
        },
        {
          "data": {
            "image/png": "[encoded data removed]",
            "text/plain": [
              "<Figure size 800x600 with 1 Axes>"
            ]
          },
          "metadata": {},
          "output_type": "display_data"
        }
      ],
      "source": [
        "train_full_model(model, original_sources_depth, manipulated_sources_depth, \"depth_dinov2_base_fp32\", scale=False)"
      ]
    },
    {
      "cell_type": "markdown",
      "id": "cf08f6aa",
      "metadata": {
        "id": "cf08f6aa"
      },
      "source": [
        "2. Distillation"
      ]
    },
    {
      "cell_type": "markdown",
      "id": "e63bf06c",
      "metadata": {
        "id": "e63bf06c"
      },
      "source": [
        "In order to test whether distilling a larger model helps we have to train the smaller model by itself first so we have a point of comparison. Then train it again but this time include in the loss the difference between the representations of the learner and teacher model."
      ]
    },
    {
      "cell_type": "code",
      "execution_count": 16,
      "id": "d8ba6289",
      "metadata": {
        "id": "d8ba6289",
        "colab": {
          "base_uri": "https://localhost:8080/",
          "height": 850,
          "referenced_widgets": [
            "d226b5d778504d6984faa638c8d3f5db",
            "5820e25023994ca7b2566d631edcde6e",
            "9755e721357a4cc9bf51bb6a8e977f02",
            "856aa78b18124f7ea52891ce9a059655",
            "5d6f7b7ac0b74b33987509627f28be66",
            "878c80850379419d9d29e34cba8353dc",
            "44f43406081044c1b9df68e303e71821",
            "e1484b0846f34bdc9c814c809c970a10",
            "2c366f92029b4dccab190fe29372f6ad",
            "1b75ab12bc394cfcb4abf5cfc932a610",
            "0e3e549c7d64450a9c3f53eb7b624a64"
          ]
        },
        "outputId": "9e2b6695-b56f-4d5c-a270-d56fe0e9a11c"
      },
      "outputs": [
        {
          "output_type": "display_data",
          "data": {
            "text/plain": [
              "preprocessor_config.json:   0%|          | 0.00/436 [00:00<?, ?B/s]"
            ],
            "application/vnd.jupyter.widget-view+json": {
              "version_major": 2,
              "version_minor": 0,
              "model_id": "d226b5d778504d6984faa638c8d3f5db"
            }
          },
          "metadata": {}
        },
        {
          "output_type": "stream",
          "name": "stderr",
          "text": [
            "Using a slow image processor as `use_fast` is unset and a slow processor was saved with this model. `use_fast=True` will be the default behavior in v4.52, even if the model was saved with a slow processor. This will result in minor differences in outputs. You'll still be able to use a slow processor with `use_fast=False`.\n"
          ]
        },
        {
          "output_type": "execute_result",
          "data": {
            "text/plain": [
              "DinoBinaryClassifier(\n",
              "  (backbone): Dinov2Model(\n",
              "    (embeddings): Dinov2Embeddings(\n",
              "      (patch_embeddings): Dinov2PatchEmbeddings(\n",
              "        (projection): Conv2d(3, 384, kernel_size=(14, 14), stride=(14, 14))\n",
              "      )\n",
              "      (dropout): Dropout(p=0.0, inplace=False)\n",
              "    )\n",
              "    (encoder): Dinov2Encoder(\n",
              "      (layer): ModuleList(\n",
              "        (0-11): 12 x Dinov2Layer(\n",
              "          (norm1): LayerNorm((384,), eps=1e-06, elementwise_affine=True)\n",
              "          (attention): Dinov2Attention(\n",
              "            (attention): Dinov2SelfAttention(\n",
              "              (query): Linear(in_features=384, out_features=384, bias=True)\n",
              "              (key): Linear(in_features=384, out_features=384, bias=True)\n",
              "              (value): Linear(in_features=384, out_features=384, bias=True)\n",
              "            )\n",
              "            (output): Dinov2SelfOutput(\n",
              "              (dense): Linear(in_features=384, out_features=384, bias=True)\n",
              "              (dropout): Dropout(p=0.0, inplace=False)\n",
              "            )\n",
              "          )\n",
              "          (layer_scale1): Dinov2LayerScale()\n",
              "          (drop_path): Identity()\n",
              "          (norm2): LayerNorm((384,), eps=1e-06, elementwise_affine=True)\n",
              "          (mlp): Dinov2MLP(\n",
              "            (fc1): Linear(in_features=384, out_features=1536, bias=True)\n",
              "            (activation): GELUActivation()\n",
              "            (fc2): Linear(in_features=1536, out_features=384, bias=True)\n",
              "          )\n",
              "          (layer_scale2): Dinov2LayerScale()\n",
              "        )\n",
              "      )\n",
              "    )\n",
              "    (layernorm): LayerNorm((384,), eps=1e-06, elementwise_affine=True)\n",
              "  )\n",
              "  (classifier): Sequential(\n",
              "    (0): Linear(in_features=384, out_features=256, bias=True)\n",
              "    (1): ReLU()\n",
              "    (2): Dropout(p=0.5, inplace=False)\n",
              "    (3): Linear(in_features=256, out_features=1, bias=True)\n",
              "  )\n",
              ")"
            ]
          },
          "metadata": {},
          "execution_count": 16
        }
      ],
      "source": [
        "model_name = \"facebook/dinov2-small\"\n",
        "processor = AutoImageProcessor.from_pretrained(model_name)\n",
        "backbone = AutoModel.from_pretrained(model_name)\n",
        "\n",
        "for param in backbone.parameters():\n",
        "    param.requires_grad = False\n",
        "\n",
        "for name, param in backbone.named_parameters():\n",
        "    if \"encoder.layer.10\" in name or \"encoder.layer.11\" in name:\n",
        "        param.requires_grad = True\n",
        "\n",
        "model = DinoBinaryClassifier(backbone)\n",
        "model.to(DEVICE)"
      ]
    },
    {
      "cell_type": "code",
      "execution_count": null,
      "id": "2211b0a1",
      "metadata": {
        "id": "2211b0a1",
        "colab": {
          "base_uri": "https://localhost:8080/"
        },
        "outputId": "8adeafe4-937c-41f8-daec-c8fc9d18225b"
      },
      "outputs": [
        {
          "output_type": "stream",
          "name": "stdout",
          "text": [
            "Training samples: 90617\n",
            "Testing samples: 16155\n",
            "Sample training item: ('depth_data/original_sequences/actors/c23/videos/01__hugging_happy/depth_image_484.png', 0)\n",
            "36 4\n"
          ]
        },
        {
          "output_type": "stream",
          "name": "stderr",
          "text": [
            " 94%|█████████▍| 333/354 [01:49<00:06,  3.09it/s]"
          ]
        }
      ],
      "source": [
        "train_full_model(model, original_sources_depth, manipulated_sources_depth, \"depth_dinov2_small_fp16\")"
      ]
    },
    {
      "cell_type": "code",
      "execution_count": null,
      "id": "8ee1aedb",
      "metadata": {
        "id": "8ee1aedb"
      },
      "outputs": [],
      "source": [
        "class DinoBinaryClassifierForDistilattion(DinoBinaryClassifier):\n",
        "    def __init__(self, backbone):\n",
        "        super().__init__(backbone)\n",
        "        self.cls_projector = nn.Linear(768, 384)\n",
        "\n",
        "    def forward(self, pixel_values):\n",
        "        outputs = self.backbone(pixel_values=pixel_values)\n",
        "        cls_token = outputs.last_hidden_state[:, 0]\n",
        "        return cls_token, self.classifier(cls_token)\n",
        "\n",
        "\n",
        "class DinoBinaryClassifierForDistilattionTeacher(DinoBinaryClassifier):\n",
        "    def __init__(self, backbone):\n",
        "        super().__init__(backbone)\n",
        "\n",
        "    def forward(self, pixel_values):\n",
        "        outputs = self.backbone(pixel_values=pixel_values)\n",
        "        cls_token = outputs.last_hidden_state[:, 0]\n",
        "        return cls_token"
      ]
    },
    {
      "cell_type": "code",
      "execution_count": null,
      "id": "388a7ea8",
      "metadata": {
        "id": "388a7ea8"
      },
      "outputs": [],
      "source": [
        "base_model_name = \"facebook/dinov2-base\"\n",
        "small_model_name = \"facebook/dinov2-small\"\n",
        "\n",
        "backbone_base = AutoModel.from_pretrained(base_model_name)\n",
        "backbone_small = AutoModel.from_pretrained(small_model_name)\n",
        "\n",
        "for param in backbone_small.parameters():\n",
        "    param.requires_grad = False\n",
        "\n",
        "for name, param in backbone_small.named_parameters():\n",
        "    if \"encoder.layer.11\" in name or \"encoder.layer.10\" in name:\n",
        "        param.requires_grad = True\n",
        "\n",
        "model_teacher = DinoBinaryClassifierForDistilattionTeacher(backbone_base)\n",
        "model_teacher.load_state_dict(torch.load('./checkpoints/depth_dinov2_base_fp16_final.pth')[\"model_state_dict\"])\n",
        "model_teacher.to(DEVICE)\n",
        "\n",
        "model_learner = DinoBinaryClassifierForDistilattion(backbone_small)\n",
        "model_learner.to(DEVICE)"
      ]
    },
    {
      "cell_type": "code",
      "execution_count": null,
      "id": "4a734f56",
      "metadata": {
        "colab": {
          "background_save": true
        },
        "id": "4a734f56"
      },
      "outputs": [],
      "source": [
        "train_full_model_distillation(model_learner, model_teacher, original_sources_flow, manipulated_sources_flow, model_name=\"flow_dinov2_small_fp16_distilled\")"
      ]
    },
    {
      "cell_type": "code",
      "execution_count": null,
      "id": "ErgSQ31UzPDq",
      "metadata": {
        "colab": {
          "background_save": true
        },
        "id": "ErgSQ31UzPDq"
      },
      "outputs": [],
      "source": [
        "!cp -r checkpoints '/content/drive/MyDrive/Colab Data/'"
      ]
    },
    {
      "cell_type": "code",
      "execution_count": null,
      "id": "I6F21P3p2shK",
      "metadata": {
        "id": "I6F21P3p2shK"
      },
      "outputs": [],
      "source": []
    }
  ],
  "metadata": {
    "accelerator": "GPU",
    "colab": {
      "gpuType": "L4",
      "machine_shape": "hm",
      "provenance": []
    },
    "kernelspec": {
      "display_name": "Python 3",
      "name": "python3"
    },
    "language_info": {
      "codemirror_mode": {
        "name": "ipython",
        "version": 3
      },
      "file_extension": ".py",
      "mimetype": "text/x-python",
      "name": "python",
      "nbconvert_exporter": "python",
      "pygments_lexer": "ipython3",
      "version": "3.12.3"
    },
    "widgets": {
      "application/vnd.jupyter.widget-state+json": {
        "00fdc451a39e4303af7f255784c403f9": {
          "model_module": "@jupyter-widgets/base",
          "model_module_version": "1.2.0",
          "model_name": "LayoutModel",
          "state": {
            "_model_module": "@jupyter-widgets/base",
            "_model_module_version": "1.2.0",
            "_model_name": "LayoutModel",
            "_view_count": null,
            "_view_module": "@jupyter-widgets/base",
            "_view_module_version": "1.2.0",
            "_view_name": "LayoutView",
            "align_content": null,
            "align_items": null,
            "align_self": null,
            "border": null,
            "bottom": null,
            "display": null,
            "flex": null,
            "flex_flow": null,
            "grid_area": null,
            "grid_auto_columns": null,
            "grid_auto_flow": null,
            "grid_auto_rows": null,
            "grid_column": null,
            "grid_gap": null,
            "grid_row": null,
            "grid_template_areas": null,
            "grid_template_columns": null,
            "grid_template_rows": null,
            "height": null,
            "justify_content": null,
            "justify_items": null,
            "left": null,
            "margin": null,
            "max_height": null,
            "max_width": null,
            "min_height": null,
            "min_width": null,
            "object_fit": null,
            "object_position": null,
            "order": null,
            "overflow": null,
            "overflow_x": null,
            "overflow_y": null,
            "padding": null,
            "right": null,
            "top": null,
            "visibility": null,
            "width": null
          }
        },
        "209fde5091cc465ca67b2395a6691613": {
          "model_module": "@jupyter-widgets/controls",
          "model_module_version": "1.5.0",
          "model_name": "ProgressStyleModel",
          "state": {
            "_model_module": "@jupyter-widgets/controls",
            "_model_module_version": "1.5.0",
            "_model_name": "ProgressStyleModel",
            "_view_count": null,
            "_view_module": "@jupyter-widgets/base",
            "_view_module_version": "1.2.0",
            "_view_name": "StyleView",
            "bar_color": null,
            "description_width": ""
          }
        },
        "352c75b063f04521b88dbf2003e17ee1": {
          "model_module": "@jupyter-widgets/base",
          "model_module_version": "1.2.0",
          "model_name": "LayoutModel",
          "state": {
            "_model_module": "@jupyter-widgets/base",
            "_model_module_version": "1.2.0",
            "_model_name": "LayoutModel",
            "_view_count": null,
            "_view_module": "@jupyter-widgets/base",
            "_view_module_version": "1.2.0",
            "_view_name": "LayoutView",
            "align_content": null,
            "align_items": null,
            "align_self": null,
            "border": null,
            "bottom": null,
            "display": null,
            "flex": null,
            "flex_flow": null,
            "grid_area": null,
            "grid_auto_columns": null,
            "grid_auto_flow": null,
            "grid_auto_rows": null,
            "grid_column": null,
            "grid_gap": null,
            "grid_row": null,
            "grid_template_areas": null,
            "grid_template_columns": null,
            "grid_template_rows": null,
            "height": null,
            "justify_content": null,
            "justify_items": null,
            "left": null,
            "margin": null,
            "max_height": null,
            "max_width": null,
            "min_height": null,
            "min_width": null,
            "object_fit": null,
            "object_position": null,
            "order": null,
            "overflow": null,
            "overflow_x": null,
            "overflow_y": null,
            "padding": null,
            "right": null,
            "top": null,
            "visibility": null,
            "width": null
          }
        },
        "383cc78db7c24146893fc32a42119a5a": {
          "model_module": "@jupyter-widgets/controls",
          "model_module_version": "1.5.0",
          "model_name": "HBoxModel",
          "state": {
            "_dom_classes": [],
            "_model_module": "@jupyter-widgets/controls",
            "_model_module_version": "1.5.0",
            "_model_name": "HBoxModel",
            "_view_count": null,
            "_view_module": "@jupyter-widgets/controls",
            "_view_module_version": "1.5.0",
            "_view_name": "HBoxView",
            "box_style": "",
            "children": [
              "IPY_MODEL_b0089595863b49c1976954b324711961",
              "IPY_MODEL_ce2292b178eb4f65afaf6cf3deb3f58f",
              "IPY_MODEL_e2695814a06b41f8bf7e1ac954f154ec"
            ],
            "layout": "IPY_MODEL_f67ff29a8aae4c9086dd99e80c0256c4"
          }
        },
        "3f461ae0cfb34fbc8f3d0f5ab6b1809b": {
          "model_module": "@jupyter-widgets/controls",
          "model_module_version": "1.5.0",
          "model_name": "DescriptionStyleModel",
          "state": {
            "_model_module": "@jupyter-widgets/controls",
            "_model_module_version": "1.5.0",
            "_model_name": "DescriptionStyleModel",
            "_view_count": null,
            "_view_module": "@jupyter-widgets/base",
            "_view_module_version": "1.2.0",
            "_view_name": "StyleView",
            "description_width": ""
          }
        },
        "5cfc18103e054f0085f63b2cb95e3d3d": {
          "model_module": "@jupyter-widgets/base",
          "model_module_version": "1.2.0",
          "model_name": "LayoutModel",
          "state": {
            "_model_module": "@jupyter-widgets/base",
            "_model_module_version": "1.2.0",
            "_model_name": "LayoutModel",
            "_view_count": null,
            "_view_module": "@jupyter-widgets/base",
            "_view_module_version": "1.2.0",
            "_view_name": "LayoutView",
            "align_content": null,
            "align_items": null,
            "align_self": null,
            "border": null,
            "bottom": null,
            "display": null,
            "flex": null,
            "flex_flow": null,
            "grid_area": null,
            "grid_auto_columns": null,
            "grid_auto_flow": null,
            "grid_auto_rows": null,
            "grid_column": null,
            "grid_gap": null,
            "grid_row": null,
            "grid_template_areas": null,
            "grid_template_columns": null,
            "grid_template_rows": null,
            "height": null,
            "justify_content": null,
            "justify_items": null,
            "left": null,
            "margin": null,
            "max_height": null,
            "max_width": null,
            "min_height": null,
            "min_width": null,
            "object_fit": null,
            "object_position": null,
            "order": null,
            "overflow": null,
            "overflow_x": null,
            "overflow_y": null,
            "padding": null,
            "right": null,
            "top": null,
            "visibility": null,
            "width": null
          }
        },
        "657b9b2ee6044062a526935a6200d54e": {
          "model_module": "@jupyter-widgets/controls",
          "model_module_version": "1.5.0",
          "model_name": "HTMLModel",
          "state": {
            "_dom_classes": [],
            "_model_module": "@jupyter-widgets/controls",
            "_model_module_version": "1.5.0",
            "_model_name": "HTMLModel",
            "_view_count": null,
            "_view_module": "@jupyter-widgets/controls",
            "_view_module_version": "1.5.0",
            "_view_name": "HTMLView",
            "description": "",
            "description_tooltip": null,
            "layout": "IPY_MODEL_00fdc451a39e4303af7f255784c403f9",
            "placeholder": "​",
            "style": "IPY_MODEL_be2ff3a63dbb45659a5cf0f0365f2d18",
            "value": "config.json: 100%"
          }
        },
        "6b3125b763dd4b04a739bc1b1cf20dc0": {
          "model_module": "@jupyter-widgets/controls",
          "model_module_version": "1.5.0",
          "model_name": "HBoxModel",
          "state": {
            "_dom_classes": [],
            "_model_module": "@jupyter-widgets/controls",
            "_model_module_version": "1.5.0",
            "_model_name": "HBoxModel",
            "_view_count": null,
            "_view_module": "@jupyter-widgets/controls",
            "_view_module_version": "1.5.0",
            "_view_name": "HBoxView",
            "box_style": "",
            "children": [
              "IPY_MODEL_657b9b2ee6044062a526935a6200d54e",
              "IPY_MODEL_8817e497117f4f44b4f35aad2d0ec76e",
              "IPY_MODEL_6e3b6a2436a64802b2159b908be8e2c6"
            ],
            "layout": "IPY_MODEL_352c75b063f04521b88dbf2003e17ee1"
          }
        },
        "6e3b6a2436a64802b2159b908be8e2c6": {
          "model_module": "@jupyter-widgets/controls",
          "model_module_version": "1.5.0",
          "model_name": "HTMLModel",
          "state": {
            "_dom_classes": [],
            "_model_module": "@jupyter-widgets/controls",
            "_model_module_version": "1.5.0",
            "_model_name": "HTMLModel",
            "_view_count": null,
            "_view_module": "@jupyter-widgets/controls",
            "_view_module_version": "1.5.0",
            "_view_name": "HTMLView",
            "description": "",
            "description_tooltip": null,
            "layout": "IPY_MODEL_9eca2f68afd046868167193f5fa6a6b4",
            "placeholder": "​",
            "style": "IPY_MODEL_f09d1ee30ffa4f2e88dbf016b2bd42b7",
            "value": " 548/548 [00:00&lt;00:00, 69.8kB/s]"
          }
        },
        "706cdc393ac94e59acc01520dacfea36": {
          "model_module": "@jupyter-widgets/controls",
          "model_module_version": "1.5.0",
          "model_name": "ProgressStyleModel",
          "state": {
            "_model_module": "@jupyter-widgets/controls",
            "_model_module_version": "1.5.0",
            "_model_name": "ProgressStyleModel",
            "_view_count": null,
            "_view_module": "@jupyter-widgets/base",
            "_view_module_version": "1.2.0",
            "_view_name": "StyleView",
            "bar_color": null,
            "description_width": ""
          }
        },
        "72b32d06aca848258f265775069deadc": {
          "model_module": "@jupyter-widgets/base",
          "model_module_version": "1.2.0",
          "model_name": "LayoutModel",
          "state": {
            "_model_module": "@jupyter-widgets/base",
            "_model_module_version": "1.2.0",
            "_model_name": "LayoutModel",
            "_view_count": null,
            "_view_module": "@jupyter-widgets/base",
            "_view_module_version": "1.2.0",
            "_view_name": "LayoutView",
            "align_content": null,
            "align_items": null,
            "align_self": null,
            "border": null,
            "bottom": null,
            "display": null,
            "flex": null,
            "flex_flow": null,
            "grid_area": null,
            "grid_auto_columns": null,
            "grid_auto_flow": null,
            "grid_auto_rows": null,
            "grid_column": null,
            "grid_gap": null,
            "grid_row": null,
            "grid_template_areas": null,
            "grid_template_columns": null,
            "grid_template_rows": null,
            "height": null,
            "justify_content": null,
            "justify_items": null,
            "left": null,
            "margin": null,
            "max_height": null,
            "max_width": null,
            "min_height": null,
            "min_width": null,
            "object_fit": null,
            "object_position": null,
            "order": null,
            "overflow": null,
            "overflow_x": null,
            "overflow_y": null,
            "padding": null,
            "right": null,
            "top": null,
            "visibility": null,
            "width": null
          }
        },
        "8817e497117f4f44b4f35aad2d0ec76e": {
          "model_module": "@jupyter-widgets/controls",
          "model_module_version": "1.5.0",
          "model_name": "FloatProgressModel",
          "state": {
            "_dom_classes": [],
            "_model_module": "@jupyter-widgets/controls",
            "_model_module_version": "1.5.0",
            "_model_name": "FloatProgressModel",
            "_view_count": null,
            "_view_module": "@jupyter-widgets/controls",
            "_view_module_version": "1.5.0",
            "_view_name": "ProgressView",
            "bar_style": "success",
            "description": "",
            "description_tooltip": null,
            "layout": "IPY_MODEL_8b319098dbac4430a25b2ee4c56fe6b3",
            "max": 548,
            "min": 0,
            "orientation": "horizontal",
            "style": "IPY_MODEL_209fde5091cc465ca67b2395a6691613",
            "value": 548
          }
        },
        "8b319098dbac4430a25b2ee4c56fe6b3": {
          "model_module": "@jupyter-widgets/base",
          "model_module_version": "1.2.0",
          "model_name": "LayoutModel",
          "state": {
            "_model_module": "@jupyter-widgets/base",
            "_model_module_version": "1.2.0",
            "_model_name": "LayoutModel",
            "_view_count": null,
            "_view_module": "@jupyter-widgets/base",
            "_view_module_version": "1.2.0",
            "_view_name": "LayoutView",
            "align_content": null,
            "align_items": null,
            "align_self": null,
            "border": null,
            "bottom": null,
            "display": null,
            "flex": null,
            "flex_flow": null,
            "grid_area": null,
            "grid_auto_columns": null,
            "grid_auto_flow": null,
            "grid_auto_rows": null,
            "grid_column": null,
            "grid_gap": null,
            "grid_row": null,
            "grid_template_areas": null,
            "grid_template_columns": null,
            "grid_template_rows": null,
            "height": null,
            "justify_content": null,
            "justify_items": null,
            "left": null,
            "margin": null,
            "max_height": null,
            "max_width": null,
            "min_height": null,
            "min_width": null,
            "object_fit": null,
            "object_position": null,
            "order": null,
            "overflow": null,
            "overflow_x": null,
            "overflow_y": null,
            "padding": null,
            "right": null,
            "top": null,
            "visibility": null,
            "width": null
          }
        },
        "8fbd641fb01548789b3031bb6ae9a149": {
          "model_module": "@jupyter-widgets/controls",
          "model_module_version": "1.5.0",
          "model_name": "DescriptionStyleModel",
          "state": {
            "_model_module": "@jupyter-widgets/controls",
            "_model_module_version": "1.5.0",
            "_model_name": "DescriptionStyleModel",
            "_view_count": null,
            "_view_module": "@jupyter-widgets/base",
            "_view_module_version": "1.2.0",
            "_view_name": "StyleView",
            "description_width": ""
          }
        },
        "9eca2f68afd046868167193f5fa6a6b4": {
          "model_module": "@jupyter-widgets/base",
          "model_module_version": "1.2.0",
          "model_name": "LayoutModel",
          "state": {
            "_model_module": "@jupyter-widgets/base",
            "_model_module_version": "1.2.0",
            "_model_name": "LayoutModel",
            "_view_count": null,
            "_view_module": "@jupyter-widgets/base",
            "_view_module_version": "1.2.0",
            "_view_name": "LayoutView",
            "align_content": null,
            "align_items": null,
            "align_self": null,
            "border": null,
            "bottom": null,
            "display": null,
            "flex": null,
            "flex_flow": null,
            "grid_area": null,
            "grid_auto_columns": null,
            "grid_auto_flow": null,
            "grid_auto_rows": null,
            "grid_column": null,
            "grid_gap": null,
            "grid_row": null,
            "grid_template_areas": null,
            "grid_template_columns": null,
            "grid_template_rows": null,
            "height": null,
            "justify_content": null,
            "justify_items": null,
            "left": null,
            "margin": null,
            "max_height": null,
            "max_width": null,
            "min_height": null,
            "min_width": null,
            "object_fit": null,
            "object_position": null,
            "order": null,
            "overflow": null,
            "overflow_x": null,
            "overflow_y": null,
            "padding": null,
            "right": null,
            "top": null,
            "visibility": null,
            "width": null
          }
        },
        "b0089595863b49c1976954b324711961": {
          "model_module": "@jupyter-widgets/controls",
          "model_module_version": "1.5.0",
          "model_name": "HTMLModel",
          "state": {
            "_dom_classes": [],
            "_model_module": "@jupyter-widgets/controls",
            "_model_module_version": "1.5.0",
            "_model_name": "HTMLModel",
            "_view_count": null,
            "_view_module": "@jupyter-widgets/controls",
            "_view_module_version": "1.5.0",
            "_view_name": "HTMLView",
            "description": "",
            "description_tooltip": null,
            "layout": "IPY_MODEL_5cfc18103e054f0085f63b2cb95e3d3d",
            "placeholder": "​",
            "style": "IPY_MODEL_3f461ae0cfb34fbc8f3d0f5ab6b1809b",
            "value": "preprocessor_config.json: 100%"
          }
        },
        "be2ff3a63dbb45659a5cf0f0365f2d18": {
          "model_module": "@jupyter-widgets/controls",
          "model_module_version": "1.5.0",
          "model_name": "DescriptionStyleModel",
          "state": {
            "_model_module": "@jupyter-widgets/controls",
            "_model_module_version": "1.5.0",
            "_model_name": "DescriptionStyleModel",
            "_view_count": null,
            "_view_module": "@jupyter-widgets/base",
            "_view_module_version": "1.2.0",
            "_view_name": "StyleView",
            "description_width": ""
          }
        },
        "ce2292b178eb4f65afaf6cf3deb3f58f": {
          "model_module": "@jupyter-widgets/controls",
          "model_module_version": "1.5.0",
          "model_name": "FloatProgressModel",
          "state": {
            "_dom_classes": [],
            "_model_module": "@jupyter-widgets/controls",
            "_model_module_version": "1.5.0",
            "_model_name": "FloatProgressModel",
            "_view_count": null,
            "_view_module": "@jupyter-widgets/controls",
            "_view_module_version": "1.5.0",
            "_view_name": "ProgressView",
            "bar_style": "success",
            "description": "",
            "description_tooltip": null,
            "layout": "IPY_MODEL_eb10e6909414445a875b0ab0daa7dfdf",
            "max": 436,
            "min": 0,
            "orientation": "horizontal",
            "style": "IPY_MODEL_706cdc393ac94e59acc01520dacfea36",
            "value": 436
          }
        },
        "e2695814a06b41f8bf7e1ac954f154ec": {
          "model_module": "@jupyter-widgets/controls",
          "model_module_version": "1.5.0",
          "model_name": "HTMLModel",
          "state": {
            "_dom_classes": [],
            "_model_module": "@jupyter-widgets/controls",
            "_model_module_version": "1.5.0",
            "_model_name": "HTMLModel",
            "_view_count": null,
            "_view_module": "@jupyter-widgets/controls",
            "_view_module_version": "1.5.0",
            "_view_name": "HTMLView",
            "description": "",
            "description_tooltip": null,
            "layout": "IPY_MODEL_72b32d06aca848258f265775069deadc",
            "placeholder": "​",
            "style": "IPY_MODEL_8fbd641fb01548789b3031bb6ae9a149",
            "value": " 436/436 [00:00&lt;00:00, 51.8kB/s]"
          }
        },
        "eb10e6909414445a875b0ab0daa7dfdf": {
          "model_module": "@jupyter-widgets/base",
          "model_module_version": "1.2.0",
          "model_name": "LayoutModel",
          "state": {
            "_model_module": "@jupyter-widgets/base",
            "_model_module_version": "1.2.0",
            "_model_name": "LayoutModel",
            "_view_count": null,
            "_view_module": "@jupyter-widgets/base",
            "_view_module_version": "1.2.0",
            "_view_name": "LayoutView",
            "align_content": null,
            "align_items": null,
            "align_self": null,
            "border": null,
            "bottom": null,
            "display": null,
            "flex": null,
            "flex_flow": null,
            "grid_area": null,
            "grid_auto_columns": null,
            "grid_auto_flow": null,
            "grid_auto_rows": null,
            "grid_column": null,
            "grid_gap": null,
            "grid_row": null,
            "grid_template_areas": null,
            "grid_template_columns": null,
            "grid_template_rows": null,
            "height": null,
            "justify_content": null,
            "justify_items": null,
            "left": null,
            "margin": null,
            "max_height": null,
            "max_width": null,
            "min_height": null,
            "min_width": null,
            "object_fit": null,
            "object_position": null,
            "order": null,
            "overflow": null,
            "overflow_x": null,
            "overflow_y": null,
            "padding": null,
            "right": null,
            "top": null,
            "visibility": null,
            "width": null
          }
        },
        "f09d1ee30ffa4f2e88dbf016b2bd42b7": {
          "model_module": "@jupyter-widgets/controls",
          "model_module_version": "1.5.0",
          "model_name": "DescriptionStyleModel",
          "state": {
            "_model_module": "@jupyter-widgets/controls",
            "_model_module_version": "1.5.0",
            "_model_name": "DescriptionStyleModel",
            "_view_count": null,
            "_view_module": "@jupyter-widgets/base",
            "_view_module_version": "1.2.0",
            "_view_name": "StyleView",
            "description_width": ""
          }
        },
        "f67ff29a8aae4c9086dd99e80c0256c4": {
          "model_module": "@jupyter-widgets/base",
          "model_module_version": "1.2.0",
          "model_name": "LayoutModel",
          "state": {
            "_model_module": "@jupyter-widgets/base",
            "_model_module_version": "1.2.0",
            "_model_name": "LayoutModel",
            "_view_count": null,
            "_view_module": "@jupyter-widgets/base",
            "_view_module_version": "1.2.0",
            "_view_name": "LayoutView",
            "align_content": null,
            "align_items": null,
            "align_self": null,
            "border": null,
            "bottom": null,
            "display": null,
            "flex": null,
            "flex_flow": null,
            "grid_area": null,
            "grid_auto_columns": null,
            "grid_auto_flow": null,
            "grid_auto_rows": null,
            "grid_column": null,
            "grid_gap": null,
            "grid_row": null,
            "grid_template_areas": null,
            "grid_template_columns": null,
            "grid_template_rows": null,
            "height": null,
            "justify_content": null,
            "justify_items": null,
            "left": null,
            "margin": null,
            "max_height": null,
            "max_width": null,
            "min_height": null,
            "min_width": null,
            "object_fit": null,
            "object_position": null,
            "order": null,
            "overflow": null,
            "overflow_x": null,
            "overflow_y": null,
            "padding": null,
            "right": null,
            "top": null,
            "visibility": null,
            "width": null
          }
        },
        "d226b5d778504d6984faa638c8d3f5db": {
          "model_module": "@jupyter-widgets/controls",
          "model_name": "HBoxModel",
          "model_module_version": "1.5.0",
          "state": {
            "_dom_classes": [],
            "_model_module": "@jupyter-widgets/controls",
            "_model_module_version": "1.5.0",
            "_model_name": "HBoxModel",
            "_view_count": null,
            "_view_module": "@jupyter-widgets/controls",
            "_view_module_version": "1.5.0",
            "_view_name": "HBoxView",
            "box_style": "",
            "children": [
              "IPY_MODEL_5820e25023994ca7b2566d631edcde6e",
              "IPY_MODEL_9755e721357a4cc9bf51bb6a8e977f02",
              "IPY_MODEL_856aa78b18124f7ea52891ce9a059655"
            ],
            "layout": "IPY_MODEL_5d6f7b7ac0b74b33987509627f28be66"
          }
        },
        "5820e25023994ca7b2566d631edcde6e": {
          "model_module": "@jupyter-widgets/controls",
          "model_name": "HTMLModel",
          "model_module_version": "1.5.0",
          "state": {
            "_dom_classes": [],
            "_model_module": "@jupyter-widgets/controls",
            "_model_module_version": "1.5.0",
            "_model_name": "HTMLModel",
            "_view_count": null,
            "_view_module": "@jupyter-widgets/controls",
            "_view_module_version": "1.5.0",
            "_view_name": "HTMLView",
            "description": "",
            "description_tooltip": null,
            "layout": "IPY_MODEL_878c80850379419d9d29e34cba8353dc",
            "placeholder": "​",
            "style": "IPY_MODEL_44f43406081044c1b9df68e303e71821",
            "value": "preprocessor_config.json: 100%"
          }
        },
        "9755e721357a4cc9bf51bb6a8e977f02": {
          "model_module": "@jupyter-widgets/controls",
          "model_name": "FloatProgressModel",
          "model_module_version": "1.5.0",
          "state": {
            "_dom_classes": [],
            "_model_module": "@jupyter-widgets/controls",
            "_model_module_version": "1.5.0",
            "_model_name": "FloatProgressModel",
            "_view_count": null,
            "_view_module": "@jupyter-widgets/controls",
            "_view_module_version": "1.5.0",
            "_view_name": "ProgressView",
            "bar_style": "success",
            "description": "",
            "description_tooltip": null,
            "layout": "IPY_MODEL_e1484b0846f34bdc9c814c809c970a10",
            "max": 436,
            "min": 0,
            "orientation": "horizontal",
            "style": "IPY_MODEL_2c366f92029b4dccab190fe29372f6ad",
            "value": 436
          }
        },
        "856aa78b18124f7ea52891ce9a059655": {
          "model_module": "@jupyter-widgets/controls",
          "model_name": "HTMLModel",
          "model_module_version": "1.5.0",
          "state": {
            "_dom_classes": [],
            "_model_module": "@jupyter-widgets/controls",
            "_model_module_version": "1.5.0",
            "_model_name": "HTMLModel",
            "_view_count": null,
            "_view_module": "@jupyter-widgets/controls",
            "_view_module_version": "1.5.0",
            "_view_name": "HTMLView",
            "description": "",
            "description_tooltip": null,
            "layout": "IPY_MODEL_1b75ab12bc394cfcb4abf5cfc932a610",
            "placeholder": "​",
            "style": "IPY_MODEL_0e3e549c7d64450a9c3f53eb7b624a64",
            "value": " 436/436 [00:00&lt;00:00, 50.2kB/s]"
          }
        },
        "5d6f7b7ac0b74b33987509627f28be66": {
          "model_module": "@jupyter-widgets/base",
          "model_name": "LayoutModel",
          "model_module_version": "1.2.0",
          "state": {
            "_model_module": "@jupyter-widgets/base",
            "_model_module_version": "1.2.0",
            "_model_name": "LayoutModel",
            "_view_count": null,
            "_view_module": "@jupyter-widgets/base",
            "_view_module_version": "1.2.0",
            "_view_name": "LayoutView",
            "align_content": null,
            "align_items": null,
            "align_self": null,
            "border": null,
            "bottom": null,
            "display": null,
            "flex": null,
            "flex_flow": null,
            "grid_area": null,
            "grid_auto_columns": null,
            "grid_auto_flow": null,
            "grid_auto_rows": null,
            "grid_column": null,
            "grid_gap": null,
            "grid_row": null,
            "grid_template_areas": null,
            "grid_template_columns": null,
            "grid_template_rows": null,
            "height": null,
            "justify_content": null,
            "justify_items": null,
            "left": null,
            "margin": null,
            "max_height": null,
            "max_width": null,
            "min_height": null,
            "min_width": null,
            "object_fit": null,
            "object_position": null,
            "order": null,
            "overflow": null,
            "overflow_x": null,
            "overflow_y": null,
            "padding": null,
            "right": null,
            "top": null,
            "visibility": null,
            "width": null
          }
        },
        "878c80850379419d9d29e34cba8353dc": {
          "model_module": "@jupyter-widgets/base",
          "model_name": "LayoutModel",
          "model_module_version": "1.2.0",
          "state": {
            "_model_module": "@jupyter-widgets/base",
            "_model_module_version": "1.2.0",
            "_model_name": "LayoutModel",
            "_view_count": null,
            "_view_module": "@jupyter-widgets/base",
            "_view_module_version": "1.2.0",
            "_view_name": "LayoutView",
            "align_content": null,
            "align_items": null,
            "align_self": null,
            "border": null,
            "bottom": null,
            "display": null,
            "flex": null,
            "flex_flow": null,
            "grid_area": null,
            "grid_auto_columns": null,
            "grid_auto_flow": null,
            "grid_auto_rows": null,
            "grid_column": null,
            "grid_gap": null,
            "grid_row": null,
            "grid_template_areas": null,
            "grid_template_columns": null,
            "grid_template_rows": null,
            "height": null,
            "justify_content": null,
            "justify_items": null,
            "left": null,
            "margin": null,
            "max_height": null,
            "max_width": null,
            "min_height": null,
            "min_width": null,
            "object_fit": null,
            "object_position": null,
            "order": null,
            "overflow": null,
            "overflow_x": null,
            "overflow_y": null,
            "padding": null,
            "right": null,
            "top": null,
            "visibility": null,
            "width": null
          }
        },
        "44f43406081044c1b9df68e303e71821": {
          "model_module": "@jupyter-widgets/controls",
          "model_name": "DescriptionStyleModel",
          "model_module_version": "1.5.0",
          "state": {
            "_model_module": "@jupyter-widgets/controls",
            "_model_module_version": "1.5.0",
            "_model_name": "DescriptionStyleModel",
            "_view_count": null,
            "_view_module": "@jupyter-widgets/base",
            "_view_module_version": "1.2.0",
            "_view_name": "StyleView",
            "description_width": ""
          }
        },
        "e1484b0846f34bdc9c814c809c970a10": {
          "model_module": "@jupyter-widgets/base",
          "model_name": "LayoutModel",
          "model_module_version": "1.2.0",
          "state": {
            "_model_module": "@jupyter-widgets/base",
            "_model_module_version": "1.2.0",
            "_model_name": "LayoutModel",
            "_view_count": null,
            "_view_module": "@jupyter-widgets/base",
            "_view_module_version": "1.2.0",
            "_view_name": "LayoutView",
            "align_content": null,
            "align_items": null,
            "align_self": null,
            "border": null,
            "bottom": null,
            "display": null,
            "flex": null,
            "flex_flow": null,
            "grid_area": null,
            "grid_auto_columns": null,
            "grid_auto_flow": null,
            "grid_auto_rows": null,
            "grid_column": null,
            "grid_gap": null,
            "grid_row": null,
            "grid_template_areas": null,
            "grid_template_columns": null,
            "grid_template_rows": null,
            "height": null,
            "justify_content": null,
            "justify_items": null,
            "left": null,
            "margin": null,
            "max_height": null,
            "max_width": null,
            "min_height": null,
            "min_width": null,
            "object_fit": null,
            "object_position": null,
            "order": null,
            "overflow": null,
            "overflow_x": null,
            "overflow_y": null,
            "padding": null,
            "right": null,
            "top": null,
            "visibility": null,
            "width": null
          }
        },
        "2c366f92029b4dccab190fe29372f6ad": {
          "model_module": "@jupyter-widgets/controls",
          "model_name": "ProgressStyleModel",
          "model_module_version": "1.5.0",
          "state": {
            "_model_module": "@jupyter-widgets/controls",
            "_model_module_version": "1.5.0",
            "_model_name": "ProgressStyleModel",
            "_view_count": null,
            "_view_module": "@jupyter-widgets/base",
            "_view_module_version": "1.2.0",
            "_view_name": "StyleView",
            "bar_color": null,
            "description_width": ""
          }
        },
        "1b75ab12bc394cfcb4abf5cfc932a610": {
          "model_module": "@jupyter-widgets/base",
          "model_name": "LayoutModel",
          "model_module_version": "1.2.0",
          "state": {
            "_model_module": "@jupyter-widgets/base",
            "_model_module_version": "1.2.0",
            "_model_name": "LayoutModel",
            "_view_count": null,
            "_view_module": "@jupyter-widgets/base",
            "_view_module_version": "1.2.0",
            "_view_name": "LayoutView",
            "align_content": null,
            "align_items": null,
            "align_self": null,
            "border": null,
            "bottom": null,
            "display": null,
            "flex": null,
            "flex_flow": null,
            "grid_area": null,
            "grid_auto_columns": null,
            "grid_auto_flow": null,
            "grid_auto_rows": null,
            "grid_column": null,
            "grid_gap": null,
            "grid_row": null,
            "grid_template_areas": null,
            "grid_template_columns": null,
            "grid_template_rows": null,
            "height": null,
            "justify_content": null,
            "justify_items": null,
            "left": null,
            "margin": null,
            "max_height": null,
            "max_width": null,
            "min_height": null,
            "min_width": null,
            "object_fit": null,
            "object_position": null,
            "order": null,
            "overflow": null,
            "overflow_x": null,
            "overflow_y": null,
            "padding": null,
            "right": null,
            "top": null,
            "visibility": null,
            "width": null
          }
        },
        "0e3e549c7d64450a9c3f53eb7b624a64": {
          "model_module": "@jupyter-widgets/controls",
          "model_name": "DescriptionStyleModel",
          "model_module_version": "1.5.0",
          "state": {
            "_model_module": "@jupyter-widgets/controls",
            "_model_module_version": "1.5.0",
            "_model_name": "DescriptionStyleModel",
            "_view_count": null,
            "_view_module": "@jupyter-widgets/base",
            "_view_module_version": "1.2.0",
            "_view_name": "StyleView",
            "description_width": ""
          }
        }
      }
    }
  },
  "nbformat": 4,
  "nbformat_minor": 5
}